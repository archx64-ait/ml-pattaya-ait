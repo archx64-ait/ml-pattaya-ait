{
 "cells": [
  {
   "cell_type": "markdown",
   "metadata": {},
   "source": [
    "# Libraries"
   ]
  },
  {
   "metadata": {
    "ExecuteTime": {
     "end_time": "2024-10-26T21:13:30.515590Z",
     "start_time": "2024-10-26T21:13:30.510581Z"
    }
   },
   "cell_type": "code",
   "source": [
    "from platform import python_version\n",
    "\n",
    "import numpy as np\n",
    "import pandas as pd\n",
    "import seaborn as sns\n",
    "\n",
    "print(f'python_version: {python_version()}')\n",
    "print(f'pandas: {pd.__version__}')\n",
    "print(f'numpy: {np.__version__}')\n",
    "print(f'seaborn: {sns.__version__}')"
   ],
   "outputs": [
    {
     "name": "stdout",
     "output_type": "stream",
     "text": [
      "python_version: 3.12.5\n",
      "pandas: 2.2.3\n",
      "numpy: 2.1.2\n",
      "seaborn: 0.13.2\n"
     ]
    }
   ],
   "execution_count": 1
  },
  {
   "cell_type": "markdown",
   "metadata": {},
   "source": [
    "# Data"
   ]
  },
  {
   "cell_type": "code",
   "metadata": {
    "ExecuteTime": {
     "end_time": "2024-10-26T21:13:31.441082Z",
     "start_time": "2024-10-26T21:13:30.515590Z"
    }
   },
   "source": [
    "app_data = pd.read_csv('application_record.csv')\n",
    "cre_data = pd.read_csv('credit_record.csv')\n",
    "app_data.shape, cre_data.shape"
   ],
   "outputs": [
    {
     "data": {
      "text/plain": [
       "((438557, 18), (1048575, 3))"
      ]
     },
     "execution_count": 2,
     "metadata": {},
     "output_type": "execute_result"
    }
   ],
   "execution_count": 2
  },
  {
   "cell_type": "code",
   "metadata": {
    "ExecuteTime": {
     "end_time": "2024-10-26T21:13:31.628184Z",
     "start_time": "2024-10-26T21:13:31.614928Z"
    }
   },
   "source": [
    "app_data.head()"
   ],
   "outputs": [
    {
     "data": {
      "text/plain": [
       "        ID CODE_GENDER FLAG_OWN_CAR FLAG_OWN_REALTY  CNT_CHILDREN  \\\n",
       "0  5008804           M            Y               Y             0   \n",
       "1  5008805           M            Y               Y             0   \n",
       "2  5008806           M            Y               Y             0   \n",
       "3  5008808           F            N               Y             0   \n",
       "4  5008809           F            N               Y             0   \n",
       "\n",
       "   AMT_INCOME_TOTAL      NAME_INCOME_TYPE            NAME_EDUCATION_TYPE  \\\n",
       "0          427500.0               Working               Higher education   \n",
       "1          427500.0               Working               Higher education   \n",
       "2          112500.0               Working  Secondary / secondary special   \n",
       "3          270000.0  Commercial associate  Secondary / secondary special   \n",
       "4          270000.0  Commercial associate  Secondary / secondary special   \n",
       "\n",
       "     NAME_FAMILY_STATUS  NAME_HOUSING_TYPE  DAYS_BIRTH  DAYS_EMPLOYED  \\\n",
       "0        Civil marriage   Rented apartment      -12005          -4542   \n",
       "1        Civil marriage   Rented apartment      -12005          -4542   \n",
       "2               Married  House / apartment      -21474          -1134   \n",
       "3  Single / not married  House / apartment      -19110          -3051   \n",
       "4  Single / not married  House / apartment      -19110          -3051   \n",
       "\n",
       "   FLAG_MOBIL  FLAG_WORK_PHONE  FLAG_PHONE  FLAG_EMAIL OCCUPATION_TYPE  \\\n",
       "0           1                1           0           0             NaN   \n",
       "1           1                1           0           0             NaN   \n",
       "2           1                0           0           0  Security staff   \n",
       "3           1                0           1           1     Sales staff   \n",
       "4           1                0           1           1     Sales staff   \n",
       "\n",
       "   CNT_FAM_MEMBERS  \n",
       "0              2.0  \n",
       "1              2.0  \n",
       "2              2.0  \n",
       "3              1.0  \n",
       "4              1.0  "
      ],
      "text/html": [
       "<div>\n",
       "<style scoped>\n",
       "    .dataframe tbody tr th:only-of-type {\n",
       "        vertical-align: middle;\n",
       "    }\n",
       "\n",
       "    .dataframe tbody tr th {\n",
       "        vertical-align: top;\n",
       "    }\n",
       "\n",
       "    .dataframe thead th {\n",
       "        text-align: right;\n",
       "    }\n",
       "</style>\n",
       "<table border=\"1\" class=\"dataframe\">\n",
       "  <thead>\n",
       "    <tr style=\"text-align: right;\">\n",
       "      <th></th>\n",
       "      <th>ID</th>\n",
       "      <th>CODE_GENDER</th>\n",
       "      <th>FLAG_OWN_CAR</th>\n",
       "      <th>FLAG_OWN_REALTY</th>\n",
       "      <th>CNT_CHILDREN</th>\n",
       "      <th>AMT_INCOME_TOTAL</th>\n",
       "      <th>NAME_INCOME_TYPE</th>\n",
       "      <th>NAME_EDUCATION_TYPE</th>\n",
       "      <th>NAME_FAMILY_STATUS</th>\n",
       "      <th>NAME_HOUSING_TYPE</th>\n",
       "      <th>DAYS_BIRTH</th>\n",
       "      <th>DAYS_EMPLOYED</th>\n",
       "      <th>FLAG_MOBIL</th>\n",
       "      <th>FLAG_WORK_PHONE</th>\n",
       "      <th>FLAG_PHONE</th>\n",
       "      <th>FLAG_EMAIL</th>\n",
       "      <th>OCCUPATION_TYPE</th>\n",
       "      <th>CNT_FAM_MEMBERS</th>\n",
       "    </tr>\n",
       "  </thead>\n",
       "  <tbody>\n",
       "    <tr>\n",
       "      <th>0</th>\n",
       "      <td>5008804</td>\n",
       "      <td>M</td>\n",
       "      <td>Y</td>\n",
       "      <td>Y</td>\n",
       "      <td>0</td>\n",
       "      <td>427500.0</td>\n",
       "      <td>Working</td>\n",
       "      <td>Higher education</td>\n",
       "      <td>Civil marriage</td>\n",
       "      <td>Rented apartment</td>\n",
       "      <td>-12005</td>\n",
       "      <td>-4542</td>\n",
       "      <td>1</td>\n",
       "      <td>1</td>\n",
       "      <td>0</td>\n",
       "      <td>0</td>\n",
       "      <td>NaN</td>\n",
       "      <td>2.0</td>\n",
       "    </tr>\n",
       "    <tr>\n",
       "      <th>1</th>\n",
       "      <td>5008805</td>\n",
       "      <td>M</td>\n",
       "      <td>Y</td>\n",
       "      <td>Y</td>\n",
       "      <td>0</td>\n",
       "      <td>427500.0</td>\n",
       "      <td>Working</td>\n",
       "      <td>Higher education</td>\n",
       "      <td>Civil marriage</td>\n",
       "      <td>Rented apartment</td>\n",
       "      <td>-12005</td>\n",
       "      <td>-4542</td>\n",
       "      <td>1</td>\n",
       "      <td>1</td>\n",
       "      <td>0</td>\n",
       "      <td>0</td>\n",
       "      <td>NaN</td>\n",
       "      <td>2.0</td>\n",
       "    </tr>\n",
       "    <tr>\n",
       "      <th>2</th>\n",
       "      <td>5008806</td>\n",
       "      <td>M</td>\n",
       "      <td>Y</td>\n",
       "      <td>Y</td>\n",
       "      <td>0</td>\n",
       "      <td>112500.0</td>\n",
       "      <td>Working</td>\n",
       "      <td>Secondary / secondary special</td>\n",
       "      <td>Married</td>\n",
       "      <td>House / apartment</td>\n",
       "      <td>-21474</td>\n",
       "      <td>-1134</td>\n",
       "      <td>1</td>\n",
       "      <td>0</td>\n",
       "      <td>0</td>\n",
       "      <td>0</td>\n",
       "      <td>Security staff</td>\n",
       "      <td>2.0</td>\n",
       "    </tr>\n",
       "    <tr>\n",
       "      <th>3</th>\n",
       "      <td>5008808</td>\n",
       "      <td>F</td>\n",
       "      <td>N</td>\n",
       "      <td>Y</td>\n",
       "      <td>0</td>\n",
       "      <td>270000.0</td>\n",
       "      <td>Commercial associate</td>\n",
       "      <td>Secondary / secondary special</td>\n",
       "      <td>Single / not married</td>\n",
       "      <td>House / apartment</td>\n",
       "      <td>-19110</td>\n",
       "      <td>-3051</td>\n",
       "      <td>1</td>\n",
       "      <td>0</td>\n",
       "      <td>1</td>\n",
       "      <td>1</td>\n",
       "      <td>Sales staff</td>\n",
       "      <td>1.0</td>\n",
       "    </tr>\n",
       "    <tr>\n",
       "      <th>4</th>\n",
       "      <td>5008809</td>\n",
       "      <td>F</td>\n",
       "      <td>N</td>\n",
       "      <td>Y</td>\n",
       "      <td>0</td>\n",
       "      <td>270000.0</td>\n",
       "      <td>Commercial associate</td>\n",
       "      <td>Secondary / secondary special</td>\n",
       "      <td>Single / not married</td>\n",
       "      <td>House / apartment</td>\n",
       "      <td>-19110</td>\n",
       "      <td>-3051</td>\n",
       "      <td>1</td>\n",
       "      <td>0</td>\n",
       "      <td>1</td>\n",
       "      <td>1</td>\n",
       "      <td>Sales staff</td>\n",
       "      <td>1.0</td>\n",
       "    </tr>\n",
       "  </tbody>\n",
       "</table>\n",
       "</div>"
      ]
     },
     "execution_count": 3,
     "metadata": {},
     "output_type": "execute_result"
    }
   ],
   "execution_count": 3
  },
  {
   "cell_type": "code",
   "metadata": {},
   "source": [
    "cre_data.head()"
   ],
   "outputs": [
    {
     "data": {
      "text/plain": [
       "        ID  MONTHS_BALANCE STATUS\n",
       "0  5001711               0      X\n",
       "1  5001711              -1      0\n",
       "2  5001711              -2      0\n",
       "3  5001711              -3      0\n",
       "4  5001712               0      C"
      ],
      "text/html": [
       "<div>\n",
       "<style scoped>\n",
       "    .dataframe tbody tr th:only-of-type {\n",
       "        vertical-align: middle;\n",
       "    }\n",
       "\n",
       "    .dataframe tbody tr th {\n",
       "        vertical-align: top;\n",
       "    }\n",
       "\n",
       "    .dataframe thead th {\n",
       "        text-align: right;\n",
       "    }\n",
       "</style>\n",
       "<table border=\"1\" class=\"dataframe\">\n",
       "  <thead>\n",
       "    <tr style=\"text-align: right;\">\n",
       "      <th></th>\n",
       "      <th>ID</th>\n",
       "      <th>MONTHS_BALANCE</th>\n",
       "      <th>STATUS</th>\n",
       "    </tr>\n",
       "  </thead>\n",
       "  <tbody>\n",
       "    <tr>\n",
       "      <th>0</th>\n",
       "      <td>5001711</td>\n",
       "      <td>0</td>\n",
       "      <td>X</td>\n",
       "    </tr>\n",
       "    <tr>\n",
       "      <th>1</th>\n",
       "      <td>5001711</td>\n",
       "      <td>-1</td>\n",
       "      <td>0</td>\n",
       "    </tr>\n",
       "    <tr>\n",
       "      <th>2</th>\n",
       "      <td>5001711</td>\n",
       "      <td>-2</td>\n",
       "      <td>0</td>\n",
       "    </tr>\n",
       "    <tr>\n",
       "      <th>3</th>\n",
       "      <td>5001711</td>\n",
       "      <td>-3</td>\n",
       "      <td>0</td>\n",
       "    </tr>\n",
       "    <tr>\n",
       "      <th>4</th>\n",
       "      <td>5001712</td>\n",
       "      <td>0</td>\n",
       "      <td>C</td>\n",
       "    </tr>\n",
       "  </tbody>\n",
       "</table>\n",
       "</div>"
      ]
     },
     "execution_count": 4,
     "metadata": {},
     "output_type": "execute_result"
    }
   ],
   "execution_count": 4
  },
  {
   "cell_type": "markdown",
   "metadata": {},
   "source": [
    "__checking missing values__"
   ]
  },
  {
   "cell_type": "code",
   "metadata": {
    "ExecuteTime": {
     "end_time": "2024-10-26T21:13:31.829297Z",
     "start_time": "2024-10-26T21:13:31.691060Z"
    }
   },
   "source": [
    "app_data.isna().sum()"
   ],
   "outputs": [
    {
     "data": {
      "text/plain": [
       "ID                          0\n",
       "CODE_GENDER                 0\n",
       "FLAG_OWN_CAR                0\n",
       "FLAG_OWN_REALTY             0\n",
       "CNT_CHILDREN                0\n",
       "AMT_INCOME_TOTAL            0\n",
       "NAME_INCOME_TYPE            0\n",
       "NAME_EDUCATION_TYPE         0\n",
       "NAME_FAMILY_STATUS          0\n",
       "NAME_HOUSING_TYPE           0\n",
       "DAYS_BIRTH                  0\n",
       "DAYS_EMPLOYED               0\n",
       "FLAG_MOBIL                  0\n",
       "FLAG_WORK_PHONE             0\n",
       "FLAG_PHONE                  0\n",
       "FLAG_EMAIL                  0\n",
       "OCCUPATION_TYPE        134203\n",
       "CNT_FAM_MEMBERS             0\n",
       "dtype: int64"
      ]
     },
     "execution_count": 5,
     "metadata": {},
     "output_type": "execute_result"
    }
   ],
   "execution_count": 5
  },
  {
   "cell_type": "code",
   "metadata": {
    "ExecuteTime": {
     "end_time": "2024-10-26T21:13:31.980063Z",
     "start_time": "2024-10-26T21:13:31.942366Z"
    }
   },
   "source": [
    "cre_data.isna().sum()"
   ],
   "outputs": [
    {
     "data": {
      "text/plain": [
       "ID                0\n",
       "MONTHS_BALANCE    0\n",
       "STATUS            0\n",
       "dtype: int64"
      ]
     },
     "execution_count": 6,
     "metadata": {},
     "output_type": "execute_result"
    }
   ],
   "execution_count": 6
  },
  {
   "cell_type": "markdown",
   "metadata": {},
   "source": [
    "__checking datatypes__"
   ]
  },
  {
   "cell_type": "code",
   "metadata": {
    "ExecuteTime": {
     "end_time": "2024-10-26T21:13:32.144341Z",
     "start_time": "2024-10-26T21:13:32.137412Z"
    }
   },
   "source": [
    "app_data.dtypes"
   ],
   "outputs": [
    {
     "data": {
      "text/plain": [
       "ID                       int64\n",
       "CODE_GENDER             object\n",
       "FLAG_OWN_CAR            object\n",
       "FLAG_OWN_REALTY         object\n",
       "CNT_CHILDREN             int64\n",
       "AMT_INCOME_TOTAL       float64\n",
       "NAME_INCOME_TYPE        object\n",
       "NAME_EDUCATION_TYPE     object\n",
       "NAME_FAMILY_STATUS      object\n",
       "NAME_HOUSING_TYPE       object\n",
       "DAYS_BIRTH               int64\n",
       "DAYS_EMPLOYED            int64\n",
       "FLAG_MOBIL               int64\n",
       "FLAG_WORK_PHONE          int64\n",
       "FLAG_PHONE               int64\n",
       "FLAG_EMAIL               int64\n",
       "OCCUPATION_TYPE         object\n",
       "CNT_FAM_MEMBERS        float64\n",
       "dtype: object"
      ]
     },
     "execution_count": 7,
     "metadata": {},
     "output_type": "execute_result"
    }
   ],
   "execution_count": 7
  },
  {
   "cell_type": "code",
   "metadata": {
    "ExecuteTime": {
     "end_time": "2024-10-26T21:13:32.296529Z",
     "start_time": "2024-10-26T21:13:32.286033Z"
    }
   },
   "source": [
    "cre_data.dtypes"
   ],
   "outputs": [
    {
     "data": {
      "text/plain": [
       "ID                 int64\n",
       "MONTHS_BALANCE     int64\n",
       "STATUS            object\n",
       "dtype: object"
      ]
     },
     "execution_count": 8,
     "metadata": {},
     "output_type": "execute_result"
    }
   ],
   "execution_count": 8
  },
  {
   "cell_type": "markdown",
   "metadata": {},
   "source": [
    "__checking percentage of duplicates in both datasets__"
   ]
  },
  {
   "cell_type": "code",
   "metadata": {
    "ExecuteTime": {
     "end_time": "2024-10-26T21:13:33.452804Z",
     "start_time": "2024-10-26T21:13:32.499044Z"
    }
   },
   "source": [
    "print(\n",
    "    f\"Duplicates in applications df: {app_data.iloc[:, 1:].duplicated().sum()}, ({np.round(100 * app_data.iloc[:, 1:].duplicated().sum() / len(app_data), 1)}%)\"\n",
    ")\n",
    "print()\n",
    "print(\n",
    "    f\"Duplicates in credit_record df: {cre_data.duplicated().sum()}, ({np.round(100 * cre_data.duplicated().sum() / len(app_data), 1)}%)\"\n",
    ")"
   ],
   "outputs": [
    {
     "name": "stdout",
     "output_type": "stream",
     "text": [
      "Duplicates in applications df: 348472, (79.5%)\n",
      "\n",
      "Duplicates in credit_record df: 0, (0.0%)\n"
     ]
    }
   ],
   "execution_count": 9
  },
  {
   "cell_type": "markdown",
   "metadata": {},
   "source": [
    "__Checking Cardinality of features__"
   ]
  },
  {
   "cell_type": "code",
   "metadata": {
    "ExecuteTime": {
     "end_time": "2024-10-26T21:13:33.749306Z",
     "start_time": "2024-10-26T21:13:33.547055Z"
    }
   },
   "source": [
    "app_data.nunique()"
   ],
   "outputs": [
    {
     "data": {
      "text/plain": [
       "ID                     438510\n",
       "CODE_GENDER                 2\n",
       "FLAG_OWN_CAR                2\n",
       "FLAG_OWN_REALTY             2\n",
       "CNT_CHILDREN               12\n",
       "AMT_INCOME_TOTAL          866\n",
       "NAME_INCOME_TYPE            5\n",
       "NAME_EDUCATION_TYPE         5\n",
       "NAME_FAMILY_STATUS          5\n",
       "NAME_HOUSING_TYPE           6\n",
       "DAYS_BIRTH              16379\n",
       "DAYS_EMPLOYED            9406\n",
       "FLAG_MOBIL                  1\n",
       "FLAG_WORK_PHONE             2\n",
       "FLAG_PHONE                  2\n",
       "FLAG_EMAIL                  2\n",
       "OCCUPATION_TYPE            18\n",
       "CNT_FAM_MEMBERS            13\n",
       "dtype: int64"
      ]
     },
     "execution_count": 10,
     "metadata": {},
     "output_type": "execute_result"
    }
   ],
   "execution_count": 10
  },
  {
   "cell_type": "code",
   "metadata": {
    "ExecuteTime": {
     "end_time": "2024-10-26T21:13:33.840958Z",
     "start_time": "2024-10-26T21:13:33.783672Z"
    }
   },
   "source": [
    "cre_data.nunique()"
   ],
   "outputs": [
    {
     "data": {
      "text/plain": [
       "ID                45985\n",
       "MONTHS_BALANCE       61\n",
       "STATUS                8\n",
       "dtype: int64"
      ]
     },
     "execution_count": 11,
     "metadata": {},
     "output_type": "execute_result"
    }
   ],
   "execution_count": 11
  },
  {
   "cell_type": "code",
   "metadata": {
    "ExecuteTime": {
     "end_time": "2024-10-26T21:13:33.953464Z",
     "start_time": "2024-10-26T21:13:33.909058Z"
    }
   },
   "source": [
    "cre_data['STATUS'].unique()"
   ],
   "outputs": [
    {
     "data": {
      "text/plain": [
       "array(['X', '0', 'C', '1', '2', '3', '4', '5'], dtype=object)"
      ]
     },
     "execution_count": 12,
     "metadata": {},
     "output_type": "execute_result"
    }
   ],
   "execution_count": 12
  },
  {
   "cell_type": "markdown",
   "metadata": {},
   "source": [
    "After checking the results returned from ```nunique``` method, I found out that \n",
    "\n",
    "__application_record__ has:\n",
    "- 1 constant feature\n",
    "- 3 continuous features\n",
    "- 6 binary categorical features\n",
    "- 3 non-binary categorical features\n",
    "\n",
    "__credit_record__ has:\n",
    "- 1 continuous feature\n",
    "- 1 nonbinary categorical feature which is our target variable"
   ]
  },
  {
   "cell_type": "markdown",
   "metadata": {},
   "source": [
    "# Data Cleaning\n"
   ]
  },
  {
   "cell_type": "markdown",
   "metadata": {},
   "source": [
    "__droping duplicates__"
   ]
  },
  {
   "cell_type": "code",
   "metadata": {
    "ExecuteTime": {
     "end_time": "2024-10-26T21:13:34.308278Z",
     "start_time": "2024-10-26T21:13:34.007467Z"
    }
   },
   "source": [
    "print(\"shape before dropping duplicates:\", app_data.shape)\n",
    "app_data = app_data.drop_duplicates(subset=app_data.columns[1:], keep=\"first\")\n",
    "print(\"shape after dropping duplicates:\", app_data.shape)"
   ],
   "outputs": [
    {
     "name": "stdout",
     "output_type": "stream",
     "text": [
      "shape before dropping duplicates: (438557, 18)\n",
      "shape after dropping duplicates: (90085, 18)\n"
     ]
    }
   ],
   "execution_count": 13
  },
  {
   "cell_type": "markdown",
   "metadata": {},
   "source": [
    "__drop constant feature__\n",
    "\n",
    "Since there is only 1 unique value in ```FLAG_MOBIL``` I consider it is not useful for training. I decided to drop this feature"
   ]
  },
  {
   "cell_type": "code",
   "metadata": {
    "ExecuteTime": {
     "end_time": "2024-10-26T21:13:34.345345Z",
     "start_time": "2024-10-26T21:13:34.333385Z"
    }
   },
   "source": [
    "app_data.drop('FLAG_MOBIL', axis=1, inplace=True)"
   ],
   "outputs": [],
   "execution_count": 14
  },
  {
   "cell_type": "markdown",
   "metadata": {},
   "source": [
    "**create target variable**\n",
    "\n",
    "Since the credit records are incomplete and id ranges in both dataframes don't match, it is better to create our own target label. By identifying _low risk_ and _high risk_ users we can mitigate this. If a user is late on payments by 30 days or more, we can mark the user is _high risk_. Otherwise, the user is _low risk_."
   ]
  },
  {
   "cell_type": "code",
   "metadata": {
    "ExecuteTime": {
     "end_time": "2024-10-26T21:13:34.393325Z",
     "start_time": "2024-10-26T21:13:34.345345Z"
    }
   },
   "source": [
    "cre_data['STATUS'].unique()"
   ],
   "outputs": [
    {
     "data": {
      "text/plain": [
       "array(['X', '0', 'C', '1', '2', '3', '4', '5'], dtype=object)"
      ]
     },
     "execution_count": 15,
     "metadata": {},
     "output_type": "execute_result"
    }
   ],
   "execution_count": 15
  },
  {
   "cell_type": "code",
   "metadata": {
    "ExecuteTime": {
     "end_time": "2024-10-26T21:13:34.549315Z",
     "start_time": "2024-10-26T21:13:34.401831Z"
    }
   },
   "source": [
    "cre_data[\"target\"] = cre_data[\"STATUS\"]\n",
    "\n",
    "# replace\n",
    "cre_data[\"target\"] = cre_data[\"target\"].replace([\"C\", \"X\"], 0)\n",
    "cre_data[\"target\"] = cre_data[\"target\"].astype(int)\n",
    "cre_data.loc[cre_data[\"target\"] > 1, \"target\"] = 1\n",
    "cre_data.head()"
   ],
   "outputs": [
    {
     "data": {
      "text/plain": [
       "        ID  MONTHS_BALANCE STATUS  target\n",
       "0  5001711               0      X       0\n",
       "1  5001711              -1      0       0\n",
       "2  5001711              -2      0       0\n",
       "3  5001711              -3      0       0\n",
       "4  5001712               0      C       0"
      ],
      "text/html": [
       "<div>\n",
       "<style scoped>\n",
       "    .dataframe tbody tr th:only-of-type {\n",
       "        vertical-align: middle;\n",
       "    }\n",
       "\n",
       "    .dataframe tbody tr th {\n",
       "        vertical-align: top;\n",
       "    }\n",
       "\n",
       "    .dataframe thead th {\n",
       "        text-align: right;\n",
       "    }\n",
       "</style>\n",
       "<table border=\"1\" class=\"dataframe\">\n",
       "  <thead>\n",
       "    <tr style=\"text-align: right;\">\n",
       "      <th></th>\n",
       "      <th>ID</th>\n",
       "      <th>MONTHS_BALANCE</th>\n",
       "      <th>STATUS</th>\n",
       "      <th>target</th>\n",
       "    </tr>\n",
       "  </thead>\n",
       "  <tbody>\n",
       "    <tr>\n",
       "      <th>0</th>\n",
       "      <td>5001711</td>\n",
       "      <td>0</td>\n",
       "      <td>X</td>\n",
       "      <td>0</td>\n",
       "    </tr>\n",
       "    <tr>\n",
       "      <th>1</th>\n",
       "      <td>5001711</td>\n",
       "      <td>-1</td>\n",
       "      <td>0</td>\n",
       "      <td>0</td>\n",
       "    </tr>\n",
       "    <tr>\n",
       "      <th>2</th>\n",
       "      <td>5001711</td>\n",
       "      <td>-2</td>\n",
       "      <td>0</td>\n",
       "      <td>0</td>\n",
       "    </tr>\n",
       "    <tr>\n",
       "      <th>3</th>\n",
       "      <td>5001711</td>\n",
       "      <td>-3</td>\n",
       "      <td>0</td>\n",
       "      <td>0</td>\n",
       "    </tr>\n",
       "    <tr>\n",
       "      <th>4</th>\n",
       "      <td>5001712</td>\n",
       "      <td>0</td>\n",
       "      <td>C</td>\n",
       "      <td>0</td>\n",
       "    </tr>\n",
       "  </tbody>\n",
       "</table>\n",
       "</div>"
      ]
     },
     "execution_count": 16,
     "metadata": {},
     "output_type": "execute_result"
    }
   ],
   "execution_count": 16
  },
  {
   "cell_type": "code",
   "metadata": {
    "ExecuteTime": {
     "end_time": "2024-10-26T21:13:34.623057Z",
     "start_time": "2024-10-26T21:13:34.582766Z"
    }
   },
   "source": [
    "target_df = pd.DataFrame(cre_data.groupby(['ID'])['target'].agg('max')).reset_index()\n",
    "print(target_df.shape)\n",
    "print(cre_data.shape)\n",
    "target_df.head()"
   ],
   "outputs": [
    {
     "name": "stdout",
     "output_type": "stream",
     "text": [
      "(45985, 2)\n",
      "(1048575, 4)\n"
     ]
    },
    {
     "data": {
      "text/plain": [
       "        ID  target\n",
       "0  5001711       0\n",
       "1  5001712       0\n",
       "2  5001713       0\n",
       "3  5001714       0\n",
       "4  5001715       0"
      ],
      "text/html": [
       "<div>\n",
       "<style scoped>\n",
       "    .dataframe tbody tr th:only-of-type {\n",
       "        vertical-align: middle;\n",
       "    }\n",
       "\n",
       "    .dataframe tbody tr th {\n",
       "        vertical-align: top;\n",
       "    }\n",
       "\n",
       "    .dataframe thead th {\n",
       "        text-align: right;\n",
       "    }\n",
       "</style>\n",
       "<table border=\"1\" class=\"dataframe\">\n",
       "  <thead>\n",
       "    <tr style=\"text-align: right;\">\n",
       "      <th></th>\n",
       "      <th>ID</th>\n",
       "      <th>target</th>\n",
       "    </tr>\n",
       "  </thead>\n",
       "  <tbody>\n",
       "    <tr>\n",
       "      <th>0</th>\n",
       "      <td>5001711</td>\n",
       "      <td>0</td>\n",
       "    </tr>\n",
       "    <tr>\n",
       "      <th>1</th>\n",
       "      <td>5001712</td>\n",
       "      <td>0</td>\n",
       "    </tr>\n",
       "    <tr>\n",
       "      <th>2</th>\n",
       "      <td>5001713</td>\n",
       "      <td>0</td>\n",
       "    </tr>\n",
       "    <tr>\n",
       "      <th>3</th>\n",
       "      <td>5001714</td>\n",
       "      <td>0</td>\n",
       "    </tr>\n",
       "    <tr>\n",
       "      <th>4</th>\n",
       "      <td>5001715</td>\n",
       "      <td>0</td>\n",
       "    </tr>\n",
       "  </tbody>\n",
       "</table>\n",
       "</div>"
      ]
     },
     "execution_count": 17,
     "metadata": {},
     "output_type": "execute_result"
    }
   ],
   "execution_count": 17
  },
  {
   "cell_type": "code",
   "metadata": {
    "ExecuteTime": {
     "end_time": "2024-10-26T21:13:34.753846Z",
     "start_time": "2024-10-26T21:13:34.724463Z"
    }
   },
   "source": [
    "# merge dataframes to create final df\n",
    "final_df = pd.merge(app_data, target_df, on='ID', how='inner')\n",
    "final_df.head()"
   ],
   "outputs": [
    {
     "data": {
      "text/plain": [
       "        ID CODE_GENDER FLAG_OWN_CAR FLAG_OWN_REALTY  CNT_CHILDREN  \\\n",
       "0  5008804           M            Y               Y             0   \n",
       "1  5008806           M            Y               Y             0   \n",
       "2  5008808           F            N               Y             0   \n",
       "3  5008812           F            N               Y             0   \n",
       "4  5008815           M            Y               Y             0   \n",
       "\n",
       "   AMT_INCOME_TOTAL      NAME_INCOME_TYPE            NAME_EDUCATION_TYPE  \\\n",
       "0          427500.0               Working               Higher education   \n",
       "1          112500.0               Working  Secondary / secondary special   \n",
       "2          270000.0  Commercial associate  Secondary / secondary special   \n",
       "3          283500.0             Pensioner               Higher education   \n",
       "4          270000.0               Working               Higher education   \n",
       "\n",
       "     NAME_FAMILY_STATUS  NAME_HOUSING_TYPE  DAYS_BIRTH  DAYS_EMPLOYED  \\\n",
       "0        Civil marriage   Rented apartment      -12005          -4542   \n",
       "1               Married  House / apartment      -21474          -1134   \n",
       "2  Single / not married  House / apartment      -19110          -3051   \n",
       "3             Separated  House / apartment      -22464         365243   \n",
       "4               Married  House / apartment      -16872           -769   \n",
       "\n",
       "   FLAG_WORK_PHONE  FLAG_PHONE  FLAG_EMAIL OCCUPATION_TYPE  CNT_FAM_MEMBERS  \\\n",
       "0                1           0           0             NaN              2.0   \n",
       "1                0           0           0  Security staff              2.0   \n",
       "2                0           1           1     Sales staff              1.0   \n",
       "3                0           0           0             NaN              1.0   \n",
       "4                1           1           1     Accountants              2.0   \n",
       "\n",
       "   target  \n",
       "0       1  \n",
       "1       0  \n",
       "2       0  \n",
       "3       0  \n",
       "4       0  "
      ],
      "text/html": [
       "<div>\n",
       "<style scoped>\n",
       "    .dataframe tbody tr th:only-of-type {\n",
       "        vertical-align: middle;\n",
       "    }\n",
       "\n",
       "    .dataframe tbody tr th {\n",
       "        vertical-align: top;\n",
       "    }\n",
       "\n",
       "    .dataframe thead th {\n",
       "        text-align: right;\n",
       "    }\n",
       "</style>\n",
       "<table border=\"1\" class=\"dataframe\">\n",
       "  <thead>\n",
       "    <tr style=\"text-align: right;\">\n",
       "      <th></th>\n",
       "      <th>ID</th>\n",
       "      <th>CODE_GENDER</th>\n",
       "      <th>FLAG_OWN_CAR</th>\n",
       "      <th>FLAG_OWN_REALTY</th>\n",
       "      <th>CNT_CHILDREN</th>\n",
       "      <th>AMT_INCOME_TOTAL</th>\n",
       "      <th>NAME_INCOME_TYPE</th>\n",
       "      <th>NAME_EDUCATION_TYPE</th>\n",
       "      <th>NAME_FAMILY_STATUS</th>\n",
       "      <th>NAME_HOUSING_TYPE</th>\n",
       "      <th>DAYS_BIRTH</th>\n",
       "      <th>DAYS_EMPLOYED</th>\n",
       "      <th>FLAG_WORK_PHONE</th>\n",
       "      <th>FLAG_PHONE</th>\n",
       "      <th>FLAG_EMAIL</th>\n",
       "      <th>OCCUPATION_TYPE</th>\n",
       "      <th>CNT_FAM_MEMBERS</th>\n",
       "      <th>target</th>\n",
       "    </tr>\n",
       "  </thead>\n",
       "  <tbody>\n",
       "    <tr>\n",
       "      <th>0</th>\n",
       "      <td>5008804</td>\n",
       "      <td>M</td>\n",
       "      <td>Y</td>\n",
       "      <td>Y</td>\n",
       "      <td>0</td>\n",
       "      <td>427500.0</td>\n",
       "      <td>Working</td>\n",
       "      <td>Higher education</td>\n",
       "      <td>Civil marriage</td>\n",
       "      <td>Rented apartment</td>\n",
       "      <td>-12005</td>\n",
       "      <td>-4542</td>\n",
       "      <td>1</td>\n",
       "      <td>0</td>\n",
       "      <td>0</td>\n",
       "      <td>NaN</td>\n",
       "      <td>2.0</td>\n",
       "      <td>1</td>\n",
       "    </tr>\n",
       "    <tr>\n",
       "      <th>1</th>\n",
       "      <td>5008806</td>\n",
       "      <td>M</td>\n",
       "      <td>Y</td>\n",
       "      <td>Y</td>\n",
       "      <td>0</td>\n",
       "      <td>112500.0</td>\n",
       "      <td>Working</td>\n",
       "      <td>Secondary / secondary special</td>\n",
       "      <td>Married</td>\n",
       "      <td>House / apartment</td>\n",
       "      <td>-21474</td>\n",
       "      <td>-1134</td>\n",
       "      <td>0</td>\n",
       "      <td>0</td>\n",
       "      <td>0</td>\n",
       "      <td>Security staff</td>\n",
       "      <td>2.0</td>\n",
       "      <td>0</td>\n",
       "    </tr>\n",
       "    <tr>\n",
       "      <th>2</th>\n",
       "      <td>5008808</td>\n",
       "      <td>F</td>\n",
       "      <td>N</td>\n",
       "      <td>Y</td>\n",
       "      <td>0</td>\n",
       "      <td>270000.0</td>\n",
       "      <td>Commercial associate</td>\n",
       "      <td>Secondary / secondary special</td>\n",
       "      <td>Single / not married</td>\n",
       "      <td>House / apartment</td>\n",
       "      <td>-19110</td>\n",
       "      <td>-3051</td>\n",
       "      <td>0</td>\n",
       "      <td>1</td>\n",
       "      <td>1</td>\n",
       "      <td>Sales staff</td>\n",
       "      <td>1.0</td>\n",
       "      <td>0</td>\n",
       "    </tr>\n",
       "    <tr>\n",
       "      <th>3</th>\n",
       "      <td>5008812</td>\n",
       "      <td>F</td>\n",
       "      <td>N</td>\n",
       "      <td>Y</td>\n",
       "      <td>0</td>\n",
       "      <td>283500.0</td>\n",
       "      <td>Pensioner</td>\n",
       "      <td>Higher education</td>\n",
       "      <td>Separated</td>\n",
       "      <td>House / apartment</td>\n",
       "      <td>-22464</td>\n",
       "      <td>365243</td>\n",
       "      <td>0</td>\n",
       "      <td>0</td>\n",
       "      <td>0</td>\n",
       "      <td>NaN</td>\n",
       "      <td>1.0</td>\n",
       "      <td>0</td>\n",
       "    </tr>\n",
       "    <tr>\n",
       "      <th>4</th>\n",
       "      <td>5008815</td>\n",
       "      <td>M</td>\n",
       "      <td>Y</td>\n",
       "      <td>Y</td>\n",
       "      <td>0</td>\n",
       "      <td>270000.0</td>\n",
       "      <td>Working</td>\n",
       "      <td>Higher education</td>\n",
       "      <td>Married</td>\n",
       "      <td>House / apartment</td>\n",
       "      <td>-16872</td>\n",
       "      <td>-769</td>\n",
       "      <td>1</td>\n",
       "      <td>1</td>\n",
       "      <td>1</td>\n",
       "      <td>Accountants</td>\n",
       "      <td>2.0</td>\n",
       "      <td>0</td>\n",
       "    </tr>\n",
       "  </tbody>\n",
       "</table>\n",
       "</div>"
      ]
     },
     "execution_count": 18,
     "metadata": {},
     "output_type": "execute_result"
    }
   ],
   "execution_count": 18
  },
  {
   "cell_type": "markdown",
   "metadata": {},
   "source": [
    "__Account Length__\n",
    "The number of months the account has been open for correlates with the riskiness of the customer. Longer the account has been opened, there are more opportunity to miss payments."
   ]
  },
  {
   "cell_type": "code",
   "metadata": {
    "ExecuteTime": {
     "end_time": "2024-10-26T21:13:34.926833Z",
     "start_time": "2024-10-26T21:13:34.879463Z"
    }
   },
   "source": [
    "# calculate how many months an account has been open for\n",
    "start_df = pd.DataFrame(cre_data.groupby(['ID'])['MONTHS_BALANCE'].agg('min')).reset_index()\n",
    "\n",
    "start_df = start_df.rename(columns={'MONTHS_BALANCE': 'ACCOUNT_LENGTH'})\n",
    "\n",
    "# make entries positive\n",
    "start_df['ACCOUNT_LENGTH'] = - start_df['ACCOUNT_LENGTH']\n",
    "\n",
    "start_df.head(10)"
   ],
   "outputs": [
    {
     "data": {
      "text/plain": [
       "        ID  ACCOUNT_LENGTH\n",
       "0  5001711               3\n",
       "1  5001712              18\n",
       "2  5001713              21\n",
       "3  5001714              14\n",
       "4  5001715              59\n",
       "5  5001717              21\n",
       "6  5001718              38\n",
       "7  5001719              42\n",
       "8  5001720              35\n",
       "9  5001723              30"
      ],
      "text/html": [
       "<div>\n",
       "<style scoped>\n",
       "    .dataframe tbody tr th:only-of-type {\n",
       "        vertical-align: middle;\n",
       "    }\n",
       "\n",
       "    .dataframe tbody tr th {\n",
       "        vertical-align: top;\n",
       "    }\n",
       "\n",
       "    .dataframe thead th {\n",
       "        text-align: right;\n",
       "    }\n",
       "</style>\n",
       "<table border=\"1\" class=\"dataframe\">\n",
       "  <thead>\n",
       "    <tr style=\"text-align: right;\">\n",
       "      <th></th>\n",
       "      <th>ID</th>\n",
       "      <th>ACCOUNT_LENGTH</th>\n",
       "    </tr>\n",
       "  </thead>\n",
       "  <tbody>\n",
       "    <tr>\n",
       "      <th>0</th>\n",
       "      <td>5001711</td>\n",
       "      <td>3</td>\n",
       "    </tr>\n",
       "    <tr>\n",
       "      <th>1</th>\n",
       "      <td>5001712</td>\n",
       "      <td>18</td>\n",
       "    </tr>\n",
       "    <tr>\n",
       "      <th>2</th>\n",
       "      <td>5001713</td>\n",
       "      <td>21</td>\n",
       "    </tr>\n",
       "    <tr>\n",
       "      <th>3</th>\n",
       "      <td>5001714</td>\n",
       "      <td>14</td>\n",
       "    </tr>\n",
       "    <tr>\n",
       "      <th>4</th>\n",
       "      <td>5001715</td>\n",
       "      <td>59</td>\n",
       "    </tr>\n",
       "    <tr>\n",
       "      <th>5</th>\n",
       "      <td>5001717</td>\n",
       "      <td>21</td>\n",
       "    </tr>\n",
       "    <tr>\n",
       "      <th>6</th>\n",
       "      <td>5001718</td>\n",
       "      <td>38</td>\n",
       "    </tr>\n",
       "    <tr>\n",
       "      <th>7</th>\n",
       "      <td>5001719</td>\n",
       "      <td>42</td>\n",
       "    </tr>\n",
       "    <tr>\n",
       "      <th>8</th>\n",
       "      <td>5001720</td>\n",
       "      <td>35</td>\n",
       "    </tr>\n",
       "    <tr>\n",
       "      <th>9</th>\n",
       "      <td>5001723</td>\n",
       "      <td>30</td>\n",
       "    </tr>\n",
       "  </tbody>\n",
       "</table>\n",
       "</div>"
      ]
     },
     "execution_count": 19,
     "metadata": {},
     "output_type": "execute_result"
    }
   ],
   "execution_count": 19
  },
  {
   "cell_type": "code",
   "metadata": {
    "ExecuteTime": {
     "end_time": "2024-10-26T21:13:35.026802Z",
     "start_time": "2024-10-26T21:13:35.008578Z"
    }
   },
   "source": [
    "# merge into final dataframe\n",
    "final_df = pd.merge(final_df, start_df, on='ID', how='inner')\n",
    "final_df.head()"
   ],
   "outputs": [
    {
     "data": {
      "text/plain": [
       "        ID CODE_GENDER FLAG_OWN_CAR FLAG_OWN_REALTY  CNT_CHILDREN  \\\n",
       "0  5008804           M            Y               Y             0   \n",
       "1  5008806           M            Y               Y             0   \n",
       "2  5008808           F            N               Y             0   \n",
       "3  5008812           F            N               Y             0   \n",
       "4  5008815           M            Y               Y             0   \n",
       "\n",
       "   AMT_INCOME_TOTAL      NAME_INCOME_TYPE            NAME_EDUCATION_TYPE  \\\n",
       "0          427500.0               Working               Higher education   \n",
       "1          112500.0               Working  Secondary / secondary special   \n",
       "2          270000.0  Commercial associate  Secondary / secondary special   \n",
       "3          283500.0             Pensioner               Higher education   \n",
       "4          270000.0               Working               Higher education   \n",
       "\n",
       "     NAME_FAMILY_STATUS  NAME_HOUSING_TYPE  DAYS_BIRTH  DAYS_EMPLOYED  \\\n",
       "0        Civil marriage   Rented apartment      -12005          -4542   \n",
       "1               Married  House / apartment      -21474          -1134   \n",
       "2  Single / not married  House / apartment      -19110          -3051   \n",
       "3             Separated  House / apartment      -22464         365243   \n",
       "4               Married  House / apartment      -16872           -769   \n",
       "\n",
       "   FLAG_WORK_PHONE  FLAG_PHONE  FLAG_EMAIL OCCUPATION_TYPE  CNT_FAM_MEMBERS  \\\n",
       "0                1           0           0             NaN              2.0   \n",
       "1                0           0           0  Security staff              2.0   \n",
       "2                0           1           1     Sales staff              1.0   \n",
       "3                0           0           0             NaN              1.0   \n",
       "4                1           1           1     Accountants              2.0   \n",
       "\n",
       "   target  ACCOUNT_LENGTH  \n",
       "0       1              15  \n",
       "1       0              29  \n",
       "2       0               4  \n",
       "3       0              20  \n",
       "4       0               5  "
      ],
      "text/html": [
       "<div>\n",
       "<style scoped>\n",
       "    .dataframe tbody tr th:only-of-type {\n",
       "        vertical-align: middle;\n",
       "    }\n",
       "\n",
       "    .dataframe tbody tr th {\n",
       "        vertical-align: top;\n",
       "    }\n",
       "\n",
       "    .dataframe thead th {\n",
       "        text-align: right;\n",
       "    }\n",
       "</style>\n",
       "<table border=\"1\" class=\"dataframe\">\n",
       "  <thead>\n",
       "    <tr style=\"text-align: right;\">\n",
       "      <th></th>\n",
       "      <th>ID</th>\n",
       "      <th>CODE_GENDER</th>\n",
       "      <th>FLAG_OWN_CAR</th>\n",
       "      <th>FLAG_OWN_REALTY</th>\n",
       "      <th>CNT_CHILDREN</th>\n",
       "      <th>AMT_INCOME_TOTAL</th>\n",
       "      <th>NAME_INCOME_TYPE</th>\n",
       "      <th>NAME_EDUCATION_TYPE</th>\n",
       "      <th>NAME_FAMILY_STATUS</th>\n",
       "      <th>NAME_HOUSING_TYPE</th>\n",
       "      <th>DAYS_BIRTH</th>\n",
       "      <th>DAYS_EMPLOYED</th>\n",
       "      <th>FLAG_WORK_PHONE</th>\n",
       "      <th>FLAG_PHONE</th>\n",
       "      <th>FLAG_EMAIL</th>\n",
       "      <th>OCCUPATION_TYPE</th>\n",
       "      <th>CNT_FAM_MEMBERS</th>\n",
       "      <th>target</th>\n",
       "      <th>ACCOUNT_LENGTH</th>\n",
       "    </tr>\n",
       "  </thead>\n",
       "  <tbody>\n",
       "    <tr>\n",
       "      <th>0</th>\n",
       "      <td>5008804</td>\n",
       "      <td>M</td>\n",
       "      <td>Y</td>\n",
       "      <td>Y</td>\n",
       "      <td>0</td>\n",
       "      <td>427500.0</td>\n",
       "      <td>Working</td>\n",
       "      <td>Higher education</td>\n",
       "      <td>Civil marriage</td>\n",
       "      <td>Rented apartment</td>\n",
       "      <td>-12005</td>\n",
       "      <td>-4542</td>\n",
       "      <td>1</td>\n",
       "      <td>0</td>\n",
       "      <td>0</td>\n",
       "      <td>NaN</td>\n",
       "      <td>2.0</td>\n",
       "      <td>1</td>\n",
       "      <td>15</td>\n",
       "    </tr>\n",
       "    <tr>\n",
       "      <th>1</th>\n",
       "      <td>5008806</td>\n",
       "      <td>M</td>\n",
       "      <td>Y</td>\n",
       "      <td>Y</td>\n",
       "      <td>0</td>\n",
       "      <td>112500.0</td>\n",
       "      <td>Working</td>\n",
       "      <td>Secondary / secondary special</td>\n",
       "      <td>Married</td>\n",
       "      <td>House / apartment</td>\n",
       "      <td>-21474</td>\n",
       "      <td>-1134</td>\n",
       "      <td>0</td>\n",
       "      <td>0</td>\n",
       "      <td>0</td>\n",
       "      <td>Security staff</td>\n",
       "      <td>2.0</td>\n",
       "      <td>0</td>\n",
       "      <td>29</td>\n",
       "    </tr>\n",
       "    <tr>\n",
       "      <th>2</th>\n",
       "      <td>5008808</td>\n",
       "      <td>F</td>\n",
       "      <td>N</td>\n",
       "      <td>Y</td>\n",
       "      <td>0</td>\n",
       "      <td>270000.0</td>\n",
       "      <td>Commercial associate</td>\n",
       "      <td>Secondary / secondary special</td>\n",
       "      <td>Single / not married</td>\n",
       "      <td>House / apartment</td>\n",
       "      <td>-19110</td>\n",
       "      <td>-3051</td>\n",
       "      <td>0</td>\n",
       "      <td>1</td>\n",
       "      <td>1</td>\n",
       "      <td>Sales staff</td>\n",
       "      <td>1.0</td>\n",
       "      <td>0</td>\n",
       "      <td>4</td>\n",
       "    </tr>\n",
       "    <tr>\n",
       "      <th>3</th>\n",
       "      <td>5008812</td>\n",
       "      <td>F</td>\n",
       "      <td>N</td>\n",
       "      <td>Y</td>\n",
       "      <td>0</td>\n",
       "      <td>283500.0</td>\n",
       "      <td>Pensioner</td>\n",
       "      <td>Higher education</td>\n",
       "      <td>Separated</td>\n",
       "      <td>House / apartment</td>\n",
       "      <td>-22464</td>\n",
       "      <td>365243</td>\n",
       "      <td>0</td>\n",
       "      <td>0</td>\n",
       "      <td>0</td>\n",
       "      <td>NaN</td>\n",
       "      <td>1.0</td>\n",
       "      <td>0</td>\n",
       "      <td>20</td>\n",
       "    </tr>\n",
       "    <tr>\n",
       "      <th>4</th>\n",
       "      <td>5008815</td>\n",
       "      <td>M</td>\n",
       "      <td>Y</td>\n",
       "      <td>Y</td>\n",
       "      <td>0</td>\n",
       "      <td>270000.0</td>\n",
       "      <td>Working</td>\n",
       "      <td>Higher education</td>\n",
       "      <td>Married</td>\n",
       "      <td>House / apartment</td>\n",
       "      <td>-16872</td>\n",
       "      <td>-769</td>\n",
       "      <td>1</td>\n",
       "      <td>1</td>\n",
       "      <td>1</td>\n",
       "      <td>Accountants</td>\n",
       "      <td>2.0</td>\n",
       "      <td>0</td>\n",
       "      <td>5</td>\n",
       "    </tr>\n",
       "  </tbody>\n",
       "</table>\n",
       "</div>"
      ]
     },
     "execution_count": 20,
     "metadata": {},
     "output_type": "execute_result"
    }
   ],
   "execution_count": 20
  },
  {
   "cell_type": "markdown",
   "metadata": {},
   "source": [
    "**creating new continuous features and dropping unnecessary columns**\n",
    "\n",
    "According to NASA there are 365.24225 days in a year\n",
    "\n",
    "https://pumas.nasa.gov/examples/how-many-days-are-year"
   ]
  },
  {
   "cell_type": "code",
   "metadata": {
    "ExecuteTime": {
     "end_time": "2024-10-26T21:13:35.170178Z",
     "start_time": "2024-10-26T21:13:35.160442Z"
    }
   },
   "source": [
    "# create age feature\n",
    "final_df[\"AGE_YEARS\"] = -final_df[\"DAYS_BIRTH\"] / 365.24225\n",
    "\n",
    "# create unemployed indicator, negative values mean days being unemployted\n",
    "final_df[\"EMPLOYED\"] = 1\n",
    "final_df.loc[-final_df[\"DAYS_EMPLOYED\"] < 0, \"EMPLOYED\"] = 0\n",
    "\n",
    "# decimal values less than 1 should be considered as 0\n",
    "final_df[\"YEARS_EMPLOYED\"] = -final_df[\"DAYS_EMPLOYED\"] / 365.24225\n",
    "final_df.loc[final_df[\"YEARS_EMPLOYED\"] < 0, \"YEARS_EMPLOYED\"] = 0\n",
    "\n",
    "# drop unnecssary columns\n",
    "final_df = final_df.drop(columns=[\"DAYS_BIRTH\", \"DAYS_EMPLOYED\"])"
   ],
   "outputs": [],
   "execution_count": 21
  },
  {
   "metadata": {
    "ExecuteTime": {
     "end_time": "2024-10-26T21:13:35.287775Z",
     "start_time": "2024-10-26T21:13:35.275830Z"
    }
   },
   "cell_type": "code",
   "source": "final_df.head()",
   "outputs": [
    {
     "data": {
      "text/plain": [
       "        ID CODE_GENDER FLAG_OWN_CAR FLAG_OWN_REALTY  CNT_CHILDREN  \\\n",
       "0  5008804           M            Y               Y             0   \n",
       "1  5008806           M            Y               Y             0   \n",
       "2  5008808           F            N               Y             0   \n",
       "3  5008812           F            N               Y             0   \n",
       "4  5008815           M            Y               Y             0   \n",
       "\n",
       "   AMT_INCOME_TOTAL      NAME_INCOME_TYPE            NAME_EDUCATION_TYPE  \\\n",
       "0          427500.0               Working               Higher education   \n",
       "1          112500.0               Working  Secondary / secondary special   \n",
       "2          270000.0  Commercial associate  Secondary / secondary special   \n",
       "3          283500.0             Pensioner               Higher education   \n",
       "4          270000.0               Working               Higher education   \n",
       "\n",
       "     NAME_FAMILY_STATUS  NAME_HOUSING_TYPE  FLAG_WORK_PHONE  FLAG_PHONE  \\\n",
       "0        Civil marriage   Rented apartment                1           0   \n",
       "1               Married  House / apartment                0           0   \n",
       "2  Single / not married  House / apartment                0           1   \n",
       "3             Separated  House / apartment                0           0   \n",
       "4               Married  House / apartment                1           1   \n",
       "\n",
       "   FLAG_EMAIL OCCUPATION_TYPE  CNT_FAM_MEMBERS  target  ACCOUNT_LENGTH  \\\n",
       "0           0             NaN              2.0       1              15   \n",
       "1           0  Security staff              2.0       0              29   \n",
       "2           1     Sales staff              1.0       0               4   \n",
       "3           0             NaN              1.0       0              20   \n",
       "4           1     Accountants              2.0       0               5   \n",
       "\n",
       "   AGE_YEARS  EMPLOYED  YEARS_EMPLOYED  \n",
       "0  32.868596         1       12.435582  \n",
       "1  58.793855         1        3.104789  \n",
       "2  52.321439         1        8.353360  \n",
       "3  61.504385         0        0.000000  \n",
       "4  46.193999         1        2.105452  "
      ],
      "text/html": [
       "<div>\n",
       "<style scoped>\n",
       "    .dataframe tbody tr th:only-of-type {\n",
       "        vertical-align: middle;\n",
       "    }\n",
       "\n",
       "    .dataframe tbody tr th {\n",
       "        vertical-align: top;\n",
       "    }\n",
       "\n",
       "    .dataframe thead th {\n",
       "        text-align: right;\n",
       "    }\n",
       "</style>\n",
       "<table border=\"1\" class=\"dataframe\">\n",
       "  <thead>\n",
       "    <tr style=\"text-align: right;\">\n",
       "      <th></th>\n",
       "      <th>ID</th>\n",
       "      <th>CODE_GENDER</th>\n",
       "      <th>FLAG_OWN_CAR</th>\n",
       "      <th>FLAG_OWN_REALTY</th>\n",
       "      <th>CNT_CHILDREN</th>\n",
       "      <th>AMT_INCOME_TOTAL</th>\n",
       "      <th>NAME_INCOME_TYPE</th>\n",
       "      <th>NAME_EDUCATION_TYPE</th>\n",
       "      <th>NAME_FAMILY_STATUS</th>\n",
       "      <th>NAME_HOUSING_TYPE</th>\n",
       "      <th>FLAG_WORK_PHONE</th>\n",
       "      <th>FLAG_PHONE</th>\n",
       "      <th>FLAG_EMAIL</th>\n",
       "      <th>OCCUPATION_TYPE</th>\n",
       "      <th>CNT_FAM_MEMBERS</th>\n",
       "      <th>target</th>\n",
       "      <th>ACCOUNT_LENGTH</th>\n",
       "      <th>AGE_YEARS</th>\n",
       "      <th>EMPLOYED</th>\n",
       "      <th>YEARS_EMPLOYED</th>\n",
       "    </tr>\n",
       "  </thead>\n",
       "  <tbody>\n",
       "    <tr>\n",
       "      <th>0</th>\n",
       "      <td>5008804</td>\n",
       "      <td>M</td>\n",
       "      <td>Y</td>\n",
       "      <td>Y</td>\n",
       "      <td>0</td>\n",
       "      <td>427500.0</td>\n",
       "      <td>Working</td>\n",
       "      <td>Higher education</td>\n",
       "      <td>Civil marriage</td>\n",
       "      <td>Rented apartment</td>\n",
       "      <td>1</td>\n",
       "      <td>0</td>\n",
       "      <td>0</td>\n",
       "      <td>NaN</td>\n",
       "      <td>2.0</td>\n",
       "      <td>1</td>\n",
       "      <td>15</td>\n",
       "      <td>32.868596</td>\n",
       "      <td>1</td>\n",
       "      <td>12.435582</td>\n",
       "    </tr>\n",
       "    <tr>\n",
       "      <th>1</th>\n",
       "      <td>5008806</td>\n",
       "      <td>M</td>\n",
       "      <td>Y</td>\n",
       "      <td>Y</td>\n",
       "      <td>0</td>\n",
       "      <td>112500.0</td>\n",
       "      <td>Working</td>\n",
       "      <td>Secondary / secondary special</td>\n",
       "      <td>Married</td>\n",
       "      <td>House / apartment</td>\n",
       "      <td>0</td>\n",
       "      <td>0</td>\n",
       "      <td>0</td>\n",
       "      <td>Security staff</td>\n",
       "      <td>2.0</td>\n",
       "      <td>0</td>\n",
       "      <td>29</td>\n",
       "      <td>58.793855</td>\n",
       "      <td>1</td>\n",
       "      <td>3.104789</td>\n",
       "    </tr>\n",
       "    <tr>\n",
       "      <th>2</th>\n",
       "      <td>5008808</td>\n",
       "      <td>F</td>\n",
       "      <td>N</td>\n",
       "      <td>Y</td>\n",
       "      <td>0</td>\n",
       "      <td>270000.0</td>\n",
       "      <td>Commercial associate</td>\n",
       "      <td>Secondary / secondary special</td>\n",
       "      <td>Single / not married</td>\n",
       "      <td>House / apartment</td>\n",
       "      <td>0</td>\n",
       "      <td>1</td>\n",
       "      <td>1</td>\n",
       "      <td>Sales staff</td>\n",
       "      <td>1.0</td>\n",
       "      <td>0</td>\n",
       "      <td>4</td>\n",
       "      <td>52.321439</td>\n",
       "      <td>1</td>\n",
       "      <td>8.353360</td>\n",
       "    </tr>\n",
       "    <tr>\n",
       "      <th>3</th>\n",
       "      <td>5008812</td>\n",
       "      <td>F</td>\n",
       "      <td>N</td>\n",
       "      <td>Y</td>\n",
       "      <td>0</td>\n",
       "      <td>283500.0</td>\n",
       "      <td>Pensioner</td>\n",
       "      <td>Higher education</td>\n",
       "      <td>Separated</td>\n",
       "      <td>House / apartment</td>\n",
       "      <td>0</td>\n",
       "      <td>0</td>\n",
       "      <td>0</td>\n",
       "      <td>NaN</td>\n",
       "      <td>1.0</td>\n",
       "      <td>0</td>\n",
       "      <td>20</td>\n",
       "      <td>61.504385</td>\n",
       "      <td>0</td>\n",
       "      <td>0.000000</td>\n",
       "    </tr>\n",
       "    <tr>\n",
       "      <th>4</th>\n",
       "      <td>5008815</td>\n",
       "      <td>M</td>\n",
       "      <td>Y</td>\n",
       "      <td>Y</td>\n",
       "      <td>0</td>\n",
       "      <td>270000.0</td>\n",
       "      <td>Working</td>\n",
       "      <td>Higher education</td>\n",
       "      <td>Married</td>\n",
       "      <td>House / apartment</td>\n",
       "      <td>1</td>\n",
       "      <td>1</td>\n",
       "      <td>1</td>\n",
       "      <td>Accountants</td>\n",
       "      <td>2.0</td>\n",
       "      <td>0</td>\n",
       "      <td>5</td>\n",
       "      <td>46.193999</td>\n",
       "      <td>1</td>\n",
       "      <td>2.105452</td>\n",
       "    </tr>\n",
       "  </tbody>\n",
       "</table>\n",
       "</div>"
      ]
     },
     "execution_count": 22,
     "metadata": {},
     "output_type": "execute_result"
    }
   ],
   "execution_count": 22
  },
  {
   "metadata": {},
   "cell_type": "markdown",
   "source": "**encoding binary features**"
  },
  {
   "cell_type": "code",
   "metadata": {
    "ExecuteTime": {
     "end_time": "2024-10-26T21:13:35.415021Z",
     "start_time": "2024-10-26T21:13:35.404397Z"
    }
   },
   "source": [
    "final_df[\"CODE_GENDER\"] = final_df[\"CODE_GENDER\"].map({'F': 0, 'M': 1}).astype(int)\n",
    "final_df[\"FLAG_OWN_CAR\"] = final_df[\"FLAG_OWN_CAR\"].map({'Y': 1, 'N': 0}).astype(int)\n",
    "final_df[\"FLAG_OWN_REALTY\"] = final_df[\"FLAG_OWN_REALTY\"].map({'Y': 1, 'N': 0}).astype(int)"
   ],
   "outputs": [],
   "execution_count": 23
  },
  {
   "metadata": {},
   "cell_type": "markdown",
   "source": "**renaming columns**"
  },
  {
   "metadata": {
    "ExecuteTime": {
     "end_time": "2024-10-26T21:13:35.498715Z",
     "start_time": "2024-10-26T21:13:35.483915Z"
    }
   },
   "cell_type": "code",
   "source": [
    "final_df = final_df.rename(columns={'CODE_GENDER': 'Gender', 'FLAG_OWN_CAR': 'OwnCar',\n",
    "                                    'FLAG_OWN_REALTY': 'OwnProperty', 'CNT_CHILDREN': 'ChildrenCount',\n",
    "                                    'AMT_INCOME_TOTAL': 'TotalIncome', 'NAME_INCOME_TYPE': 'IncomeType',\n",
    "                                    'NAME_EDUCATION_TYPE': 'EducationType', 'NAME_FAMILY_STATUS': 'FamilyStatus',\n",
    "                                    'NAME_HOUSING_TYPE': 'HousingType', 'FLAG_WORK_PHONE': 'WorkPhone',\n",
    "                                    'FLAG_PHONE': 'Phone', 'FLAG_EMAIL': 'Email', 'OCCUPATION_TYPE': 'OccupationType',\n",
    "                                    'CNT_FAM_MEMBERS': 'FamilyMembers', 'target': 'Target',\n",
    "                                    'ACCOUNT_LENGTH': 'AccountLength',\n",
    "                                    'AGE_YEARS': 'Age', 'UNEMPLOYED': 'Unemployed', 'YEARS_EMPLOYED': 'YearsEmployed'})\n",
    "\n",
    "final_df.head()"
   ],
   "outputs": [
    {
     "data": {
      "text/plain": [
       "        ID  Gender  OwnCar  OwnProperty  ChildrenCount  TotalIncome  \\\n",
       "0  5008804       1       1            1              0     427500.0   \n",
       "1  5008806       1       1            1              0     112500.0   \n",
       "2  5008808       0       0            1              0     270000.0   \n",
       "3  5008812       0       0            1              0     283500.0   \n",
       "4  5008815       1       1            1              0     270000.0   \n",
       "\n",
       "             IncomeType                  EducationType          FamilyStatus  \\\n",
       "0               Working               Higher education        Civil marriage   \n",
       "1               Working  Secondary / secondary special               Married   \n",
       "2  Commercial associate  Secondary / secondary special  Single / not married   \n",
       "3             Pensioner               Higher education             Separated   \n",
       "4               Working               Higher education               Married   \n",
       "\n",
       "         HousingType  WorkPhone  Phone  Email  OccupationType  FamilyMembers  \\\n",
       "0   Rented apartment          1      0      0             NaN            2.0   \n",
       "1  House / apartment          0      0      0  Security staff            2.0   \n",
       "2  House / apartment          0      1      1     Sales staff            1.0   \n",
       "3  House / apartment          0      0      0             NaN            1.0   \n",
       "4  House / apartment          1      1      1     Accountants            2.0   \n",
       "\n",
       "   Target  AccountLength        Age  EMPLOYED  YearsEmployed  \n",
       "0       1             15  32.868596         1      12.435582  \n",
       "1       0             29  58.793855         1       3.104789  \n",
       "2       0              4  52.321439         1       8.353360  \n",
       "3       0             20  61.504385         0       0.000000  \n",
       "4       0              5  46.193999         1       2.105452  "
      ],
      "text/html": [
       "<div>\n",
       "<style scoped>\n",
       "    .dataframe tbody tr th:only-of-type {\n",
       "        vertical-align: middle;\n",
       "    }\n",
       "\n",
       "    .dataframe tbody tr th {\n",
       "        vertical-align: top;\n",
       "    }\n",
       "\n",
       "    .dataframe thead th {\n",
       "        text-align: right;\n",
       "    }\n",
       "</style>\n",
       "<table border=\"1\" class=\"dataframe\">\n",
       "  <thead>\n",
       "    <tr style=\"text-align: right;\">\n",
       "      <th></th>\n",
       "      <th>ID</th>\n",
       "      <th>Gender</th>\n",
       "      <th>OwnCar</th>\n",
       "      <th>OwnProperty</th>\n",
       "      <th>ChildrenCount</th>\n",
       "      <th>TotalIncome</th>\n",
       "      <th>IncomeType</th>\n",
       "      <th>EducationType</th>\n",
       "      <th>FamilyStatus</th>\n",
       "      <th>HousingType</th>\n",
       "      <th>WorkPhone</th>\n",
       "      <th>Phone</th>\n",
       "      <th>Email</th>\n",
       "      <th>OccupationType</th>\n",
       "      <th>FamilyMembers</th>\n",
       "      <th>Target</th>\n",
       "      <th>AccountLength</th>\n",
       "      <th>Age</th>\n",
       "      <th>EMPLOYED</th>\n",
       "      <th>YearsEmployed</th>\n",
       "    </tr>\n",
       "  </thead>\n",
       "  <tbody>\n",
       "    <tr>\n",
       "      <th>0</th>\n",
       "      <td>5008804</td>\n",
       "      <td>1</td>\n",
       "      <td>1</td>\n",
       "      <td>1</td>\n",
       "      <td>0</td>\n",
       "      <td>427500.0</td>\n",
       "      <td>Working</td>\n",
       "      <td>Higher education</td>\n",
       "      <td>Civil marriage</td>\n",
       "      <td>Rented apartment</td>\n",
       "      <td>1</td>\n",
       "      <td>0</td>\n",
       "      <td>0</td>\n",
       "      <td>NaN</td>\n",
       "      <td>2.0</td>\n",
       "      <td>1</td>\n",
       "      <td>15</td>\n",
       "      <td>32.868596</td>\n",
       "      <td>1</td>\n",
       "      <td>12.435582</td>\n",
       "    </tr>\n",
       "    <tr>\n",
       "      <th>1</th>\n",
       "      <td>5008806</td>\n",
       "      <td>1</td>\n",
       "      <td>1</td>\n",
       "      <td>1</td>\n",
       "      <td>0</td>\n",
       "      <td>112500.0</td>\n",
       "      <td>Working</td>\n",
       "      <td>Secondary / secondary special</td>\n",
       "      <td>Married</td>\n",
       "      <td>House / apartment</td>\n",
       "      <td>0</td>\n",
       "      <td>0</td>\n",
       "      <td>0</td>\n",
       "      <td>Security staff</td>\n",
       "      <td>2.0</td>\n",
       "      <td>0</td>\n",
       "      <td>29</td>\n",
       "      <td>58.793855</td>\n",
       "      <td>1</td>\n",
       "      <td>3.104789</td>\n",
       "    </tr>\n",
       "    <tr>\n",
       "      <th>2</th>\n",
       "      <td>5008808</td>\n",
       "      <td>0</td>\n",
       "      <td>0</td>\n",
       "      <td>1</td>\n",
       "      <td>0</td>\n",
       "      <td>270000.0</td>\n",
       "      <td>Commercial associate</td>\n",
       "      <td>Secondary / secondary special</td>\n",
       "      <td>Single / not married</td>\n",
       "      <td>House / apartment</td>\n",
       "      <td>0</td>\n",
       "      <td>1</td>\n",
       "      <td>1</td>\n",
       "      <td>Sales staff</td>\n",
       "      <td>1.0</td>\n",
       "      <td>0</td>\n",
       "      <td>4</td>\n",
       "      <td>52.321439</td>\n",
       "      <td>1</td>\n",
       "      <td>8.353360</td>\n",
       "    </tr>\n",
       "    <tr>\n",
       "      <th>3</th>\n",
       "      <td>5008812</td>\n",
       "      <td>0</td>\n",
       "      <td>0</td>\n",
       "      <td>1</td>\n",
       "      <td>0</td>\n",
       "      <td>283500.0</td>\n",
       "      <td>Pensioner</td>\n",
       "      <td>Higher education</td>\n",
       "      <td>Separated</td>\n",
       "      <td>House / apartment</td>\n",
       "      <td>0</td>\n",
       "      <td>0</td>\n",
       "      <td>0</td>\n",
       "      <td>NaN</td>\n",
       "      <td>1.0</td>\n",
       "      <td>0</td>\n",
       "      <td>20</td>\n",
       "      <td>61.504385</td>\n",
       "      <td>0</td>\n",
       "      <td>0.000000</td>\n",
       "    </tr>\n",
       "    <tr>\n",
       "      <th>4</th>\n",
       "      <td>5008815</td>\n",
       "      <td>1</td>\n",
       "      <td>1</td>\n",
       "      <td>1</td>\n",
       "      <td>0</td>\n",
       "      <td>270000.0</td>\n",
       "      <td>Working</td>\n",
       "      <td>Higher education</td>\n",
       "      <td>Married</td>\n",
       "      <td>House / apartment</td>\n",
       "      <td>1</td>\n",
       "      <td>1</td>\n",
       "      <td>1</td>\n",
       "      <td>Accountants</td>\n",
       "      <td>2.0</td>\n",
       "      <td>0</td>\n",
       "      <td>5</td>\n",
       "      <td>46.193999</td>\n",
       "      <td>1</td>\n",
       "      <td>2.105452</td>\n",
       "    </tr>\n",
       "  </tbody>\n",
       "</table>\n",
       "</div>"
      ]
     },
     "execution_count": 24,
     "metadata": {},
     "output_type": "execute_result"
    }
   ],
   "execution_count": 24
  },
  {
   "metadata": {},
   "cell_type": "markdown",
   "source": "**data types**"
  },
  {
   "metadata": {
    "ExecuteTime": {
     "end_time": "2024-10-26T21:13:35.620046Z",
     "start_time": "2024-10-26T21:13:35.616576Z"
    }
   },
   "cell_type": "code",
   "source": "final_df['FamilyMembers'] = final_df['FamilyMembers'].astype(int)",
   "outputs": [],
   "execution_count": 25
  },
  {
   "metadata": {
    "ExecuteTime": {
     "end_time": "2024-10-26T21:13:35.710278Z",
     "start_time": "2024-10-26T21:13:35.699047Z"
    }
   },
   "cell_type": "code",
   "source": "final_df.head()",
   "outputs": [
    {
     "data": {
      "text/plain": [
       "        ID  Gender  OwnCar  OwnProperty  ChildrenCount  TotalIncome  \\\n",
       "0  5008804       1       1            1              0     427500.0   \n",
       "1  5008806       1       1            1              0     112500.0   \n",
       "2  5008808       0       0            1              0     270000.0   \n",
       "3  5008812       0       0            1              0     283500.0   \n",
       "4  5008815       1       1            1              0     270000.0   \n",
       "\n",
       "             IncomeType                  EducationType          FamilyStatus  \\\n",
       "0               Working               Higher education        Civil marriage   \n",
       "1               Working  Secondary / secondary special               Married   \n",
       "2  Commercial associate  Secondary / secondary special  Single / not married   \n",
       "3             Pensioner               Higher education             Separated   \n",
       "4               Working               Higher education               Married   \n",
       "\n",
       "         HousingType  WorkPhone  Phone  Email  OccupationType  FamilyMembers  \\\n",
       "0   Rented apartment          1      0      0             NaN              2   \n",
       "1  House / apartment          0      0      0  Security staff              2   \n",
       "2  House / apartment          0      1      1     Sales staff              1   \n",
       "3  House / apartment          0      0      0             NaN              1   \n",
       "4  House / apartment          1      1      1     Accountants              2   \n",
       "\n",
       "   Target  AccountLength        Age  EMPLOYED  YearsEmployed  \n",
       "0       1             15  32.868596         1      12.435582  \n",
       "1       0             29  58.793855         1       3.104789  \n",
       "2       0              4  52.321439         1       8.353360  \n",
       "3       0             20  61.504385         0       0.000000  \n",
       "4       0              5  46.193999         1       2.105452  "
      ],
      "text/html": [
       "<div>\n",
       "<style scoped>\n",
       "    .dataframe tbody tr th:only-of-type {\n",
       "        vertical-align: middle;\n",
       "    }\n",
       "\n",
       "    .dataframe tbody tr th {\n",
       "        vertical-align: top;\n",
       "    }\n",
       "\n",
       "    .dataframe thead th {\n",
       "        text-align: right;\n",
       "    }\n",
       "</style>\n",
       "<table border=\"1\" class=\"dataframe\">\n",
       "  <thead>\n",
       "    <tr style=\"text-align: right;\">\n",
       "      <th></th>\n",
       "      <th>ID</th>\n",
       "      <th>Gender</th>\n",
       "      <th>OwnCar</th>\n",
       "      <th>OwnProperty</th>\n",
       "      <th>ChildrenCount</th>\n",
       "      <th>TotalIncome</th>\n",
       "      <th>IncomeType</th>\n",
       "      <th>EducationType</th>\n",
       "      <th>FamilyStatus</th>\n",
       "      <th>HousingType</th>\n",
       "      <th>WorkPhone</th>\n",
       "      <th>Phone</th>\n",
       "      <th>Email</th>\n",
       "      <th>OccupationType</th>\n",
       "      <th>FamilyMembers</th>\n",
       "      <th>Target</th>\n",
       "      <th>AccountLength</th>\n",
       "      <th>Age</th>\n",
       "      <th>EMPLOYED</th>\n",
       "      <th>YearsEmployed</th>\n",
       "    </tr>\n",
       "  </thead>\n",
       "  <tbody>\n",
       "    <tr>\n",
       "      <th>0</th>\n",
       "      <td>5008804</td>\n",
       "      <td>1</td>\n",
       "      <td>1</td>\n",
       "      <td>1</td>\n",
       "      <td>0</td>\n",
       "      <td>427500.0</td>\n",
       "      <td>Working</td>\n",
       "      <td>Higher education</td>\n",
       "      <td>Civil marriage</td>\n",
       "      <td>Rented apartment</td>\n",
       "      <td>1</td>\n",
       "      <td>0</td>\n",
       "      <td>0</td>\n",
       "      <td>NaN</td>\n",
       "      <td>2</td>\n",
       "      <td>1</td>\n",
       "      <td>15</td>\n",
       "      <td>32.868596</td>\n",
       "      <td>1</td>\n",
       "      <td>12.435582</td>\n",
       "    </tr>\n",
       "    <tr>\n",
       "      <th>1</th>\n",
       "      <td>5008806</td>\n",
       "      <td>1</td>\n",
       "      <td>1</td>\n",
       "      <td>1</td>\n",
       "      <td>0</td>\n",
       "      <td>112500.0</td>\n",
       "      <td>Working</td>\n",
       "      <td>Secondary / secondary special</td>\n",
       "      <td>Married</td>\n",
       "      <td>House / apartment</td>\n",
       "      <td>0</td>\n",
       "      <td>0</td>\n",
       "      <td>0</td>\n",
       "      <td>Security staff</td>\n",
       "      <td>2</td>\n",
       "      <td>0</td>\n",
       "      <td>29</td>\n",
       "      <td>58.793855</td>\n",
       "      <td>1</td>\n",
       "      <td>3.104789</td>\n",
       "    </tr>\n",
       "    <tr>\n",
       "      <th>2</th>\n",
       "      <td>5008808</td>\n",
       "      <td>0</td>\n",
       "      <td>0</td>\n",
       "      <td>1</td>\n",
       "      <td>0</td>\n",
       "      <td>270000.0</td>\n",
       "      <td>Commercial associate</td>\n",
       "      <td>Secondary / secondary special</td>\n",
       "      <td>Single / not married</td>\n",
       "      <td>House / apartment</td>\n",
       "      <td>0</td>\n",
       "      <td>1</td>\n",
       "      <td>1</td>\n",
       "      <td>Sales staff</td>\n",
       "      <td>1</td>\n",
       "      <td>0</td>\n",
       "      <td>4</td>\n",
       "      <td>52.321439</td>\n",
       "      <td>1</td>\n",
       "      <td>8.353360</td>\n",
       "    </tr>\n",
       "    <tr>\n",
       "      <th>3</th>\n",
       "      <td>5008812</td>\n",
       "      <td>0</td>\n",
       "      <td>0</td>\n",
       "      <td>1</td>\n",
       "      <td>0</td>\n",
       "      <td>283500.0</td>\n",
       "      <td>Pensioner</td>\n",
       "      <td>Higher education</td>\n",
       "      <td>Separated</td>\n",
       "      <td>House / apartment</td>\n",
       "      <td>0</td>\n",
       "      <td>0</td>\n",
       "      <td>0</td>\n",
       "      <td>NaN</td>\n",
       "      <td>1</td>\n",
       "      <td>0</td>\n",
       "      <td>20</td>\n",
       "      <td>61.504385</td>\n",
       "      <td>0</td>\n",
       "      <td>0.000000</td>\n",
       "    </tr>\n",
       "    <tr>\n",
       "      <th>4</th>\n",
       "      <td>5008815</td>\n",
       "      <td>1</td>\n",
       "      <td>1</td>\n",
       "      <td>1</td>\n",
       "      <td>0</td>\n",
       "      <td>270000.0</td>\n",
       "      <td>Working</td>\n",
       "      <td>Higher education</td>\n",
       "      <td>Married</td>\n",
       "      <td>House / apartment</td>\n",
       "      <td>1</td>\n",
       "      <td>1</td>\n",
       "      <td>1</td>\n",
       "      <td>Accountants</td>\n",
       "      <td>2</td>\n",
       "      <td>0</td>\n",
       "      <td>5</td>\n",
       "      <td>46.193999</td>\n",
       "      <td>1</td>\n",
       "      <td>2.105452</td>\n",
       "    </tr>\n",
       "  </tbody>\n",
       "</table>\n",
       "</div>"
      ]
     },
     "execution_count": 26,
     "metadata": {},
     "output_type": "execute_result"
    }
   ],
   "execution_count": 26
  },
  {
   "metadata": {
    "ExecuteTime": {
     "end_time": "2024-10-26T21:13:35.818510Z",
     "start_time": "2024-10-26T21:13:35.797499Z"
    }
   },
   "cell_type": "code",
   "source": "final_df.info()",
   "outputs": [
    {
     "name": "stdout",
     "output_type": "stream",
     "text": [
      "<class 'pandas.core.frame.DataFrame'>\n",
      "RangeIndex: 9709 entries, 0 to 9708\n",
      "Data columns (total 20 columns):\n",
      " #   Column          Non-Null Count  Dtype  \n",
      "---  ------          --------------  -----  \n",
      " 0   ID              9709 non-null   int64  \n",
      " 1   Gender          9709 non-null   int64  \n",
      " 2   OwnCar          9709 non-null   int64  \n",
      " 3   OwnProperty     9709 non-null   int64  \n",
      " 4   ChildrenCount   9709 non-null   int64  \n",
      " 5   TotalIncome     9709 non-null   float64\n",
      " 6   IncomeType      9709 non-null   object \n",
      " 7   EducationType   9709 non-null   object \n",
      " 8   FamilyStatus    9709 non-null   object \n",
      " 9   HousingType     9709 non-null   object \n",
      " 10  WorkPhone       9709 non-null   int64  \n",
      " 11  Phone           9709 non-null   int64  \n",
      " 12  Email           9709 non-null   int64  \n",
      " 13  OccupationType  6715 non-null   object \n",
      " 14  FamilyMembers   9709 non-null   int64  \n",
      " 15  Target          9709 non-null   int64  \n",
      " 16  AccountLength   9709 non-null   int64  \n",
      " 17  Age             9709 non-null   float64\n",
      " 18  EMPLOYED        9709 non-null   int64  \n",
      " 19  YearsEmployed   9709 non-null   float64\n",
      "dtypes: float64(3), int64(12), object(5)\n",
      "memory usage: 1.5+ MB\n"
     ]
    }
   ],
   "execution_count": 27
  },
  {
   "metadata": {},
   "cell_type": "markdown",
   "source": "**checking unique values in categorical features**"
  },
  {
   "metadata": {
    "ExecuteTime": {
     "end_time": "2024-10-26T21:13:35.868387Z",
     "start_time": "2024-10-26T21:13:35.860432Z"
    }
   },
   "cell_type": "code",
   "source": [
    "print(f'IncomeTypes: {final_df['IncomeType'].unique()}\\n')\n",
    "print(f'EducationTypes: {final_df['EducationType'].unique()}\\n')\n",
    "print(f'FamilyStatus: {final_df['FamilyStatus'].unique()}\\n')\n",
    "print(f'HousingType: {final_df['HousingType'].unique()}\\n')\n",
    "print(f'OccupationType: {final_df['OccupationType'].unique()}\\n')"
   ],
   "outputs": [
    {
     "name": "stdout",
     "output_type": "stream",
     "text": [
      "IncomeTypes: ['Working' 'Commercial associate' 'Pensioner' 'State servant' 'Student']\n",
      "\n",
      "EducationTypes: ['Higher education' 'Secondary / secondary special' 'Incomplete higher'\n",
      " 'Lower secondary' 'Academic degree']\n",
      "\n",
      "FamilyStatus: ['Civil marriage' 'Married' 'Single / not married' 'Separated' 'Widow']\n",
      "\n",
      "HousingType: ['Rented apartment' 'House / apartment' 'Municipal apartment'\n",
      " 'With parents' 'Co-op apartment' 'Office apartment']\n",
      "\n",
      "OccupationType: [nan 'Security staff' 'Sales staff' 'Accountants' 'Laborers' 'Managers'\n",
      " 'Drivers' 'Core staff' 'High skill tech staff' 'Cleaning staff'\n",
      " 'Private service staff' 'Cooking staff' 'Low-skill Laborers'\n",
      " 'Medicine staff' 'Secretaries' 'Waiters/barmen staff' 'HR staff'\n",
      " 'Realty agents' 'IT staff']\n",
      "\n"
     ]
    }
   ],
   "execution_count": 28
  },
  {
   "metadata": {},
   "cell_type": "markdown",
   "source": "**check if** ```OccupationType``` **should be dropped or not**"
  },
  {
   "metadata": {
    "ExecuteTime": {
     "end_time": "2024-10-26T21:13:35.948259Z",
     "start_time": "2024-10-26T21:13:35.942672Z"
    }
   },
   "cell_type": "code",
   "source": "final_df['OccupationType'].value_counts()",
   "outputs": [
    {
     "data": {
      "text/plain": [
       "OccupationType\n",
       "Laborers                 1724\n",
       "Sales staff               959\n",
       "Core staff                877\n",
       "Managers                  782\n",
       "Drivers                   623\n",
       "High skill tech staff     357\n",
       "Accountants               300\n",
       "Medicine staff            291\n",
       "Cooking staff             193\n",
       "Security staff            182\n",
       "Cleaning staff            146\n",
       "Private service staff      86\n",
       "Low-skill Laborers         53\n",
       "Secretaries                46\n",
       "Waiters/barmen staff       40\n",
       "HR staff                   22\n",
       "IT staff                   18\n",
       "Realty agents              16\n",
       "Name: count, dtype: int64"
      ]
     },
     "execution_count": 29,
     "metadata": {},
     "output_type": "execute_result"
    }
   ],
   "execution_count": 29
  },
  {
   "metadata": {},
   "cell_type": "markdown",
   "source": [
    "**encoding categories**\n",
    "\n",
    "Since these categories have an ordinal order. I will use ordinal order.\n",
    "\n",
    "From higest to lowest in ordinality:\n",
    "\n",
    "```IncomeType```\n",
    "4. State servent\n",
    "3. Working\n",
    "2. Commercial associate\n",
    "1. Pensioner\n",
    "0. Student\n",
    "\n",
    "```FamilyStatus```\n",
    "4. Married (highest stability)\n",
    "3. Civil marriage (committed but not formally married)\n",
    "2. Widow (previously married)\n",
    "1. Separated (previously in a committed relationship)\n",
    "0. Single / not married (lowest stability)\n",
    "\n",
    "```HousingType```\n",
    "5. House / apartment (own or stable living)\n",
    "4. Co-op apartment (indicating shared ownership or cooperative living)\n",
    "3. Rented apartment (relatively stable but rented)\n",
    "2. Municipal apartment (state or government-supported housing)\n",
    "1. Office apartment (less stable, typically temporary)\n",
    "0. With parents (least independent, usually indicating early life stage or dependence)\n",
    "\n",
    "```EducationType```\n",
    "4. Academic degree (highest)\n",
    "3. Higher education\n",
    "2. Incomplete higher\n",
    "1. Secondary / secondary special\n",
    "0. Lower secondary (lowest\n"
   ]
  },
  {
   "metadata": {
    "ExecuteTime": {
     "end_time": "2024-10-26T21:13:36.175868Z",
     "start_time": "2024-10-26T21:13:36.076808Z"
    }
   },
   "cell_type": "code",
   "outputs": [
    {
     "data": {
      "text/plain": [
       "np.float64(-0.020191896773687414)"
      ]
     },
     "execution_count": 30,
     "metadata": {},
     "output_type": "execute_result"
    }
   ],
   "execution_count": 30,
   "source": [
    "from sklearn.preprocessing import LabelEncoder\n",
    "\n",
    "le = LabelEncoder()\n",
    "\n",
    "final_df['OccupationType_encoded'] = le.fit_transform(final_df['OccupationType'])\n",
    "\n",
    "occupation_target_corr = final_df[['OccupationType_encoded', 'Target']].corr().iloc[0, 1]\n",
    "occupation_target_corr"
   ]
  },
  {
   "metadata": {},
   "cell_type": "markdown",
   "source": [
    "```OccupationType``` feature has 19 unique categories, with ```Other``` being the most common and categories like ```Realty agents``` having only 16 entries. \n",
    "Correlation between ```OccupationType``` and the ```Target``` variable is quite low at approximately −0.02. This indicates that it has a very weak linear relationship with ```Target```. There is no occupation data for some users as well. Therefore, I decided to drop this column. "
   ]
  },
  {
   "metadata": {
    "ExecuteTime": {
     "end_time": "2024-10-26T21:13:36.246308Z",
     "start_time": "2024-10-26T21:13:36.231309Z"
    }
   },
   "cell_type": "code",
   "outputs": [
    {
     "data": {
      "text/plain": [
       "        ID  Gender  OwnCar  OwnProperty  ChildrenCount  TotalIncome  \\\n",
       "0  5008804       1       1            1              0     427500.0   \n",
       "1  5008806       1       1            1              0     112500.0   \n",
       "2  5008808       0       0            1              0     270000.0   \n",
       "3  5008812       0       0            1              0     283500.0   \n",
       "4  5008815       1       1            1              0     270000.0   \n",
       "\n",
       "             IncomeType                  EducationType          FamilyStatus  \\\n",
       "0               Working               Higher education        Civil marriage   \n",
       "1               Working  Secondary / secondary special               Married   \n",
       "2  Commercial associate  Secondary / secondary special  Single / not married   \n",
       "3             Pensioner               Higher education             Separated   \n",
       "4               Working               Higher education               Married   \n",
       "\n",
       "         HousingType  WorkPhone  Phone  Email  FamilyMembers  Target  \\\n",
       "0   Rented apartment          1      0      0              2       1   \n",
       "1  House / apartment          0      0      0              2       0   \n",
       "2  House / apartment          0      1      1              1       0   \n",
       "3  House / apartment          0      0      0              1       0   \n",
       "4  House / apartment          1      1      1              2       0   \n",
       "\n",
       "   AccountLength        Age  EMPLOYED  YearsEmployed  \n",
       "0             15  32.868596         1      12.435582  \n",
       "1             29  58.793855         1       3.104789  \n",
       "2              4  52.321439         1       8.353360  \n",
       "3             20  61.504385         0       0.000000  \n",
       "4              5  46.193999         1       2.105452  "
      ],
      "text/html": [
       "<div>\n",
       "<style scoped>\n",
       "    .dataframe tbody tr th:only-of-type {\n",
       "        vertical-align: middle;\n",
       "    }\n",
       "\n",
       "    .dataframe tbody tr th {\n",
       "        vertical-align: top;\n",
       "    }\n",
       "\n",
       "    .dataframe thead th {\n",
       "        text-align: right;\n",
       "    }\n",
       "</style>\n",
       "<table border=\"1\" class=\"dataframe\">\n",
       "  <thead>\n",
       "    <tr style=\"text-align: right;\">\n",
       "      <th></th>\n",
       "      <th>ID</th>\n",
       "      <th>Gender</th>\n",
       "      <th>OwnCar</th>\n",
       "      <th>OwnProperty</th>\n",
       "      <th>ChildrenCount</th>\n",
       "      <th>TotalIncome</th>\n",
       "      <th>IncomeType</th>\n",
       "      <th>EducationType</th>\n",
       "      <th>FamilyStatus</th>\n",
       "      <th>HousingType</th>\n",
       "      <th>WorkPhone</th>\n",
       "      <th>Phone</th>\n",
       "      <th>Email</th>\n",
       "      <th>FamilyMembers</th>\n",
       "      <th>Target</th>\n",
       "      <th>AccountLength</th>\n",
       "      <th>Age</th>\n",
       "      <th>EMPLOYED</th>\n",
       "      <th>YearsEmployed</th>\n",
       "    </tr>\n",
       "  </thead>\n",
       "  <tbody>\n",
       "    <tr>\n",
       "      <th>0</th>\n",
       "      <td>5008804</td>\n",
       "      <td>1</td>\n",
       "      <td>1</td>\n",
       "      <td>1</td>\n",
       "      <td>0</td>\n",
       "      <td>427500.0</td>\n",
       "      <td>Working</td>\n",
       "      <td>Higher education</td>\n",
       "      <td>Civil marriage</td>\n",
       "      <td>Rented apartment</td>\n",
       "      <td>1</td>\n",
       "      <td>0</td>\n",
       "      <td>0</td>\n",
       "      <td>2</td>\n",
       "      <td>1</td>\n",
       "      <td>15</td>\n",
       "      <td>32.868596</td>\n",
       "      <td>1</td>\n",
       "      <td>12.435582</td>\n",
       "    </tr>\n",
       "    <tr>\n",
       "      <th>1</th>\n",
       "      <td>5008806</td>\n",
       "      <td>1</td>\n",
       "      <td>1</td>\n",
       "      <td>1</td>\n",
       "      <td>0</td>\n",
       "      <td>112500.0</td>\n",
       "      <td>Working</td>\n",
       "      <td>Secondary / secondary special</td>\n",
       "      <td>Married</td>\n",
       "      <td>House / apartment</td>\n",
       "      <td>0</td>\n",
       "      <td>0</td>\n",
       "      <td>0</td>\n",
       "      <td>2</td>\n",
       "      <td>0</td>\n",
       "      <td>29</td>\n",
       "      <td>58.793855</td>\n",
       "      <td>1</td>\n",
       "      <td>3.104789</td>\n",
       "    </tr>\n",
       "    <tr>\n",
       "      <th>2</th>\n",
       "      <td>5008808</td>\n",
       "      <td>0</td>\n",
       "      <td>0</td>\n",
       "      <td>1</td>\n",
       "      <td>0</td>\n",
       "      <td>270000.0</td>\n",
       "      <td>Commercial associate</td>\n",
       "      <td>Secondary / secondary special</td>\n",
       "      <td>Single / not married</td>\n",
       "      <td>House / apartment</td>\n",
       "      <td>0</td>\n",
       "      <td>1</td>\n",
       "      <td>1</td>\n",
       "      <td>1</td>\n",
       "      <td>0</td>\n",
       "      <td>4</td>\n",
       "      <td>52.321439</td>\n",
       "      <td>1</td>\n",
       "      <td>8.353360</td>\n",
       "    </tr>\n",
       "    <tr>\n",
       "      <th>3</th>\n",
       "      <td>5008812</td>\n",
       "      <td>0</td>\n",
       "      <td>0</td>\n",
       "      <td>1</td>\n",
       "      <td>0</td>\n",
       "      <td>283500.0</td>\n",
       "      <td>Pensioner</td>\n",
       "      <td>Higher education</td>\n",
       "      <td>Separated</td>\n",
       "      <td>House / apartment</td>\n",
       "      <td>0</td>\n",
       "      <td>0</td>\n",
       "      <td>0</td>\n",
       "      <td>1</td>\n",
       "      <td>0</td>\n",
       "      <td>20</td>\n",
       "      <td>61.504385</td>\n",
       "      <td>0</td>\n",
       "      <td>0.000000</td>\n",
       "    </tr>\n",
       "    <tr>\n",
       "      <th>4</th>\n",
       "      <td>5008815</td>\n",
       "      <td>1</td>\n",
       "      <td>1</td>\n",
       "      <td>1</td>\n",
       "      <td>0</td>\n",
       "      <td>270000.0</td>\n",
       "      <td>Working</td>\n",
       "      <td>Higher education</td>\n",
       "      <td>Married</td>\n",
       "      <td>House / apartment</td>\n",
       "      <td>1</td>\n",
       "      <td>1</td>\n",
       "      <td>1</td>\n",
       "      <td>2</td>\n",
       "      <td>0</td>\n",
       "      <td>5</td>\n",
       "      <td>46.193999</td>\n",
       "      <td>1</td>\n",
       "      <td>2.105452</td>\n",
       "    </tr>\n",
       "  </tbody>\n",
       "</table>\n",
       "</div>"
      ]
     },
     "execution_count": 31,
     "metadata": {},
     "output_type": "execute_result"
    }
   ],
   "execution_count": 31,
   "source": [
    "final_df = final_df.drop(columns=['OccupationType', 'OccupationType_encoded'])\n",
    "final_df.head()"
   ]
  },
  {
   "metadata": {
    "ExecuteTime": {
     "end_time": "2024-10-26T21:13:36.307069Z",
     "start_time": "2024-10-26T21:13:36.293088Z"
    }
   },
   "cell_type": "code",
   "source": [
    "from sklearn.preprocessing import OrdinalEncoder\n",
    "\n",
    "income_type_order = ['Student', 'Pensioner', 'Commercial associate', 'Working', 'State servant']\n",
    "education_order = ['Lower secondary', 'Secondary / secondary special', 'Incomplete higher', 'Higher education',\n",
    "                   'Academic degree']\n",
    "family_status_order = ['Single / not married', 'Separated', 'Widow', 'Civil marriage', 'Married']\n",
    "housing_type_order = ['With parents', 'Office apartment', 'Municipal apartment', 'Rented apartment', 'Co-op apartment',\n",
    "                      'House / apartment']\n",
    "\n",
    "encoder = OrdinalEncoder(categories=[income_type_order, education_order, family_status_order, housing_type_order])\n",
    "\n",
    "final_df[['IncomeType', 'EducationType', 'FamilyStatus', 'HousingType']] = encoder.fit_transform(\n",
    "    final_df[['IncomeType' ,'EducationType', 'FamilyStatus', 'HousingType']])\n",
    "\n",
    "# display mapping generated by OrdinalEncoder\n",
    "for feature, categories in zip(['IncomeType', 'EducationType', 'FamilyStatus', 'HousingType'], encoder.categories_):\n",
    "    print(f\"Mapping for {feature}:\")\n",
    "    for i, category in enumerate(categories):\n",
    "        print(f\"  {category}: {i}\")"
   ],
   "outputs": [
    {
     "name": "stdout",
     "output_type": "stream",
     "text": [
      "Mapping for IncomeType:\n",
      "  Student: 0\n",
      "  Pensioner: 1\n",
      "  Commercial associate: 2\n",
      "  Working: 3\n",
      "  State servant: 4\n",
      "Mapping for EducationType:\n",
      "  Lower secondary: 0\n",
      "  Secondary / secondary special: 1\n",
      "  Incomplete higher: 2\n",
      "  Higher education: 3\n",
      "  Academic degree: 4\n",
      "Mapping for FamilyStatus:\n",
      "  Single / not married: 0\n",
      "  Separated: 1\n",
      "  Widow: 2\n",
      "  Civil marriage: 3\n",
      "  Married: 4\n",
      "Mapping for HousingType:\n",
      "  With parents: 0\n",
      "  Office apartment: 1\n",
      "  Municipal apartment: 2\n",
      "  Rented apartment: 3\n",
      "  Co-op apartment: 4\n",
      "  House / apartment: 5\n"
     ]
    }
   ],
   "execution_count": 32
  },
  {
   "metadata": {
    "ExecuteTime": {
     "end_time": "2024-10-26T21:13:36.477733Z",
     "start_time": "2024-10-26T21:13:36.462689Z"
    }
   },
   "cell_type": "code",
   "source": "final_df.head()",
   "outputs": [
    {
     "data": {
      "text/plain": [
       "        ID  Gender  OwnCar  OwnProperty  ChildrenCount  TotalIncome  \\\n",
       "0  5008804       1       1            1              0     427500.0   \n",
       "1  5008806       1       1            1              0     112500.0   \n",
       "2  5008808       0       0            1              0     270000.0   \n",
       "3  5008812       0       0            1              0     283500.0   \n",
       "4  5008815       1       1            1              0     270000.0   \n",
       "\n",
       "   IncomeType  EducationType  FamilyStatus  HousingType  WorkPhone  Phone  \\\n",
       "0         3.0            3.0           3.0          3.0          1      0   \n",
       "1         3.0            1.0           4.0          5.0          0      0   \n",
       "2         2.0            1.0           0.0          5.0          0      1   \n",
       "3         1.0            3.0           1.0          5.0          0      0   \n",
       "4         3.0            3.0           4.0          5.0          1      1   \n",
       "\n",
       "   Email  FamilyMembers  Target  AccountLength        Age  EMPLOYED  \\\n",
       "0      0              2       1             15  32.868596         1   \n",
       "1      0              2       0             29  58.793855         1   \n",
       "2      1              1       0              4  52.321439         1   \n",
       "3      0              1       0             20  61.504385         0   \n",
       "4      1              2       0              5  46.193999         1   \n",
       "\n",
       "   YearsEmployed  \n",
       "0      12.435582  \n",
       "1       3.104789  \n",
       "2       8.353360  \n",
       "3       0.000000  \n",
       "4       2.105452  "
      ],
      "text/html": [
       "<div>\n",
       "<style scoped>\n",
       "    .dataframe tbody tr th:only-of-type {\n",
       "        vertical-align: middle;\n",
       "    }\n",
       "\n",
       "    .dataframe tbody tr th {\n",
       "        vertical-align: top;\n",
       "    }\n",
       "\n",
       "    .dataframe thead th {\n",
       "        text-align: right;\n",
       "    }\n",
       "</style>\n",
       "<table border=\"1\" class=\"dataframe\">\n",
       "  <thead>\n",
       "    <tr style=\"text-align: right;\">\n",
       "      <th></th>\n",
       "      <th>ID</th>\n",
       "      <th>Gender</th>\n",
       "      <th>OwnCar</th>\n",
       "      <th>OwnProperty</th>\n",
       "      <th>ChildrenCount</th>\n",
       "      <th>TotalIncome</th>\n",
       "      <th>IncomeType</th>\n",
       "      <th>EducationType</th>\n",
       "      <th>FamilyStatus</th>\n",
       "      <th>HousingType</th>\n",
       "      <th>WorkPhone</th>\n",
       "      <th>Phone</th>\n",
       "      <th>Email</th>\n",
       "      <th>FamilyMembers</th>\n",
       "      <th>Target</th>\n",
       "      <th>AccountLength</th>\n",
       "      <th>Age</th>\n",
       "      <th>EMPLOYED</th>\n",
       "      <th>YearsEmployed</th>\n",
       "    </tr>\n",
       "  </thead>\n",
       "  <tbody>\n",
       "    <tr>\n",
       "      <th>0</th>\n",
       "      <td>5008804</td>\n",
       "      <td>1</td>\n",
       "      <td>1</td>\n",
       "      <td>1</td>\n",
       "      <td>0</td>\n",
       "      <td>427500.0</td>\n",
       "      <td>3.0</td>\n",
       "      <td>3.0</td>\n",
       "      <td>3.0</td>\n",
       "      <td>3.0</td>\n",
       "      <td>1</td>\n",
       "      <td>0</td>\n",
       "      <td>0</td>\n",
       "      <td>2</td>\n",
       "      <td>1</td>\n",
       "      <td>15</td>\n",
       "      <td>32.868596</td>\n",
       "      <td>1</td>\n",
       "      <td>12.435582</td>\n",
       "    </tr>\n",
       "    <tr>\n",
       "      <th>1</th>\n",
       "      <td>5008806</td>\n",
       "      <td>1</td>\n",
       "      <td>1</td>\n",
       "      <td>1</td>\n",
       "      <td>0</td>\n",
       "      <td>112500.0</td>\n",
       "      <td>3.0</td>\n",
       "      <td>1.0</td>\n",
       "      <td>4.0</td>\n",
       "      <td>5.0</td>\n",
       "      <td>0</td>\n",
       "      <td>0</td>\n",
       "      <td>0</td>\n",
       "      <td>2</td>\n",
       "      <td>0</td>\n",
       "      <td>29</td>\n",
       "      <td>58.793855</td>\n",
       "      <td>1</td>\n",
       "      <td>3.104789</td>\n",
       "    </tr>\n",
       "    <tr>\n",
       "      <th>2</th>\n",
       "      <td>5008808</td>\n",
       "      <td>0</td>\n",
       "      <td>0</td>\n",
       "      <td>1</td>\n",
       "      <td>0</td>\n",
       "      <td>270000.0</td>\n",
       "      <td>2.0</td>\n",
       "      <td>1.0</td>\n",
       "      <td>0.0</td>\n",
       "      <td>5.0</td>\n",
       "      <td>0</td>\n",
       "      <td>1</td>\n",
       "      <td>1</td>\n",
       "      <td>1</td>\n",
       "      <td>0</td>\n",
       "      <td>4</td>\n",
       "      <td>52.321439</td>\n",
       "      <td>1</td>\n",
       "      <td>8.353360</td>\n",
       "    </tr>\n",
       "    <tr>\n",
       "      <th>3</th>\n",
       "      <td>5008812</td>\n",
       "      <td>0</td>\n",
       "      <td>0</td>\n",
       "      <td>1</td>\n",
       "      <td>0</td>\n",
       "      <td>283500.0</td>\n",
       "      <td>1.0</td>\n",
       "      <td>3.0</td>\n",
       "      <td>1.0</td>\n",
       "      <td>5.0</td>\n",
       "      <td>0</td>\n",
       "      <td>0</td>\n",
       "      <td>0</td>\n",
       "      <td>1</td>\n",
       "      <td>0</td>\n",
       "      <td>20</td>\n",
       "      <td>61.504385</td>\n",
       "      <td>0</td>\n",
       "      <td>0.000000</td>\n",
       "    </tr>\n",
       "    <tr>\n",
       "      <th>4</th>\n",
       "      <td>5008815</td>\n",
       "      <td>1</td>\n",
       "      <td>1</td>\n",
       "      <td>1</td>\n",
       "      <td>0</td>\n",
       "      <td>270000.0</td>\n",
       "      <td>3.0</td>\n",
       "      <td>3.0</td>\n",
       "      <td>4.0</td>\n",
       "      <td>5.0</td>\n",
       "      <td>1</td>\n",
       "      <td>1</td>\n",
       "      <td>1</td>\n",
       "      <td>2</td>\n",
       "      <td>0</td>\n",
       "      <td>5</td>\n",
       "      <td>46.193999</td>\n",
       "      <td>1</td>\n",
       "      <td>2.105452</td>\n",
       "    </tr>\n",
       "  </tbody>\n",
       "</table>\n",
       "</div>"
      ]
     },
     "execution_count": 33,
     "metadata": {},
     "output_type": "execute_result"
    }
   ],
   "execution_count": 33
  },
  {
   "metadata": {
    "ExecuteTime": {
     "end_time": "2024-10-26T21:13:36.631091Z",
     "start_time": "2024-10-26T21:13:36.626020Z"
    }
   },
   "cell_type": "code",
   "source": "final_df.dtypes",
   "outputs": [
    {
     "data": {
      "text/plain": [
       "ID                 int64\n",
       "Gender             int64\n",
       "OwnCar             int64\n",
       "OwnProperty        int64\n",
       "ChildrenCount      int64\n",
       "TotalIncome      float64\n",
       "IncomeType       float64\n",
       "EducationType    float64\n",
       "FamilyStatus     float64\n",
       "HousingType      float64\n",
       "WorkPhone          int64\n",
       "Phone              int64\n",
       "Email              int64\n",
       "FamilyMembers      int64\n",
       "Target             int64\n",
       "AccountLength      int64\n",
       "Age              float64\n",
       "EMPLOYED           int64\n",
       "YearsEmployed    float64\n",
       "dtype: object"
      ]
     },
     "execution_count": 34,
     "metadata": {},
     "output_type": "execute_result"
    }
   ],
   "execution_count": 34
  },
  {
   "metadata": {
    "ExecuteTime": {
     "end_time": "2024-10-26T21:13:36.756492Z",
     "start_time": "2024-10-26T21:13:36.674495Z"
    }
   },
   "cell_type": "code",
   "source": "final_df.to_csv('final_df.csv', index=False)",
   "outputs": [],
   "execution_count": 35
  },
  {
   "metadata": {
    "ExecuteTime": {
     "end_time": "2024-10-26T21:13:36.983380Z",
     "start_time": "2024-10-26T21:13:36.796256Z"
    }
   },
   "cell_type": "code",
   "source": "sns.countplot(x='Target', data=final_df, hue='Target', palette='Set2')",
   "outputs": [
    {
     "data": {
      "text/plain": [
       "<Axes: xlabel='Target', ylabel='count'>"
      ]
     },
     "execution_count": 36,
     "metadata": {},
     "output_type": "execute_result"
    },
    {
     "data": {
      "text/plain": [
       "<Figure size 640x480 with 1 Axes>"
      ],
      "image/png": "[encoded data removed]"
     },
     "metadata": {},
     "output_type": "display_data"
    }
   ],
   "execution_count": 36
  },
  {
   "metadata": {
    "ExecuteTime": {
     "end_time": "2024-10-26T21:13:37.011414Z",
     "start_time": "2024-10-26T21:13:37.008063Z"
    }
   },
   "cell_type": "code",
   "source": "\n",
   "outputs": [],
   "execution_count": 36
  }
 ],
 "metadata": {
  "kernelspec": {
   "display_name": "ml-env",
   "language": "python",
   "name": "python3"
  },
  "language_info": {
   "codemirror_mode": {
    "name": "ipython",
    "version": 3
   },
   "file_extension": ".py",
   "mimetype": "text/x-python",
   "name": "python",
   "nbconvert_exporter": "python",
   "pygments_lexer": "ipython3",
   "version": "3.12.5"
  }
 },
 "nbformat": 4,
 "nbformat_minor": 2
}
